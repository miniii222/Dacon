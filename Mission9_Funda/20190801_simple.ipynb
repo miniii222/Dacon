{
 "cells": [
  {
   "cell_type": "code",
   "execution_count": 17,
   "metadata": {
    "ExecuteTime": {
     "end_time": "2019-08-01T11:36:30.554427Z",
     "start_time": "2019-08-01T11:36:30.549440Z"
    }
   },
   "outputs": [],
   "source": [
    "import pandas as pd\n",
    "import numpy as np\n",
    "pd.set_option('display.max_columns', 500)"
   ]
  },
  {
   "cell_type": "code",
   "execution_count": 9,
   "metadata": {
    "ExecuteTime": {
     "end_time": "2019-08-01T11:32:13.506980Z",
     "start_time": "2019-08-01T11:32:03.183021Z"
    }
   },
   "outputs": [
    {
     "name": "stdout",
     "output_type": "stream",
     "text": [
      "(6556613, 9)\n"
     ]
    },
    {
     "data": {
      "text/html": [
       "<div>\n",
       "<style scoped>\n",
       "    .dataframe tbody tr th:only-of-type {\n",
       "        vertical-align: middle;\n",
       "    }\n",
       "\n",
       "    .dataframe tbody tr th {\n",
       "        vertical-align: top;\n",
       "    }\n",
       "\n",
       "    .dataframe thead th {\n",
       "        text-align: right;\n",
       "    }\n",
       "</style>\n",
       "<table border=\"1\" class=\"dataframe\">\n",
       "  <thead>\n",
       "    <tr style=\"text-align: right;\">\n",
       "      <th></th>\n",
       "      <th>store_id</th>\n",
       "      <th>card_id</th>\n",
       "      <th>card_company</th>\n",
       "      <th>transacted_date</th>\n",
       "      <th>transacted_time</th>\n",
       "      <th>installment_term</th>\n",
       "      <th>region</th>\n",
       "      <th>type_of_business</th>\n",
       "      <th>amount</th>\n",
       "    </tr>\n",
       "  </thead>\n",
       "  <tbody>\n",
       "    <tr>\n",
       "      <th>0</th>\n",
       "      <td>0</td>\n",
       "      <td>0</td>\n",
       "      <td>b</td>\n",
       "      <td>2016-06-01</td>\n",
       "      <td>13:13</td>\n",
       "      <td>0</td>\n",
       "      <td>NaN</td>\n",
       "      <td>기타 미용업</td>\n",
       "      <td>1857.142857</td>\n",
       "    </tr>\n",
       "    <tr>\n",
       "      <th>1</th>\n",
       "      <td>0</td>\n",
       "      <td>1</td>\n",
       "      <td>h</td>\n",
       "      <td>2016-06-01</td>\n",
       "      <td>18:12</td>\n",
       "      <td>0</td>\n",
       "      <td>NaN</td>\n",
       "      <td>기타 미용업</td>\n",
       "      <td>857.142857</td>\n",
       "    </tr>\n",
       "    <tr>\n",
       "      <th>2</th>\n",
       "      <td>0</td>\n",
       "      <td>2</td>\n",
       "      <td>c</td>\n",
       "      <td>2016-06-01</td>\n",
       "      <td>18:52</td>\n",
       "      <td>0</td>\n",
       "      <td>NaN</td>\n",
       "      <td>기타 미용업</td>\n",
       "      <td>2000.000000</td>\n",
       "    </tr>\n",
       "    <tr>\n",
       "      <th>3</th>\n",
       "      <td>0</td>\n",
       "      <td>3</td>\n",
       "      <td>a</td>\n",
       "      <td>2016-06-01</td>\n",
       "      <td>20:22</td>\n",
       "      <td>0</td>\n",
       "      <td>NaN</td>\n",
       "      <td>기타 미용업</td>\n",
       "      <td>7857.142857</td>\n",
       "    </tr>\n",
       "    <tr>\n",
       "      <th>4</th>\n",
       "      <td>0</td>\n",
       "      <td>4</td>\n",
       "      <td>c</td>\n",
       "      <td>2016-06-02</td>\n",
       "      <td>11:06</td>\n",
       "      <td>0</td>\n",
       "      <td>NaN</td>\n",
       "      <td>기타 미용업</td>\n",
       "      <td>2000.000000</td>\n",
       "    </tr>\n",
       "  </tbody>\n",
       "</table>\n",
       "</div>"
      ],
      "text/plain": [
       "   store_id  card_id card_company transacted_date transacted_time  \\\n",
       "0         0        0            b      2016-06-01           13:13   \n",
       "1         0        1            h      2016-06-01           18:12   \n",
       "2         0        2            c      2016-06-01           18:52   \n",
       "3         0        3            a      2016-06-01           20:22   \n",
       "4         0        4            c      2016-06-02           11:06   \n",
       "\n",
       "   installment_term region type_of_business       amount  \n",
       "0                 0    NaN           기타 미용업  1857.142857  \n",
       "1                 0    NaN           기타 미용업   857.142857  \n",
       "2                 0    NaN           기타 미용업  2000.000000  \n",
       "3                 0    NaN           기타 미용업  7857.142857  \n",
       "4                 0    NaN           기타 미용업  2000.000000  "
      ]
     },
     "execution_count": 9,
     "metadata": {},
     "output_type": "execute_result"
    }
   ],
   "source": [
    "train = pd.read_csv('./funda_train.csv')\n",
    "print(train.shape)\n",
    "train.head()"
   ]
  },
  {
   "cell_type": "code",
   "execution_count": 62,
   "metadata": {
    "ExecuteTime": {
     "end_time": "2019-08-01T12:17:15.190455Z",
     "start_time": "2019-08-01T12:16:49.196970Z"
    }
   },
   "outputs": [
    {
     "data": {
      "text/html": [
       "<div>\n",
       "<style scoped>\n",
       "    .dataframe tbody tr th:only-of-type {\n",
       "        vertical-align: middle;\n",
       "    }\n",
       "\n",
       "    .dataframe tbody tr th {\n",
       "        vertical-align: top;\n",
       "    }\n",
       "\n",
       "    .dataframe thead th {\n",
       "        text-align: right;\n",
       "    }\n",
       "</style>\n",
       "<table border=\"1\" class=\"dataframe\">\n",
       "  <thead>\n",
       "    <tr style=\"text-align: right;\">\n",
       "      <th></th>\n",
       "      <th>store_id</th>\n",
       "      <th>card_id</th>\n",
       "      <th>card_company</th>\n",
       "      <th>transacted_date</th>\n",
       "      <th>transacted_time</th>\n",
       "      <th>installment_term</th>\n",
       "      <th>region</th>\n",
       "      <th>type_of_business</th>\n",
       "      <th>amount</th>\n",
       "      <th>year</th>\n",
       "      <th>month</th>\n",
       "      <th>day</th>\n",
       "      <th>hour</th>\n",
       "      <th>minute</th>\n",
       "    </tr>\n",
       "  </thead>\n",
       "  <tbody>\n",
       "    <tr>\n",
       "      <th>0</th>\n",
       "      <td>0</td>\n",
       "      <td>0</td>\n",
       "      <td>b</td>\n",
       "      <td>2016-06-01</td>\n",
       "      <td>13:13</td>\n",
       "      <td>0</td>\n",
       "      <td>NaN</td>\n",
       "      <td>기타 미용업</td>\n",
       "      <td>1857.142857</td>\n",
       "      <td>2016</td>\n",
       "      <td>6</td>\n",
       "      <td>1</td>\n",
       "      <td>13</td>\n",
       "      <td>13</td>\n",
       "    </tr>\n",
       "    <tr>\n",
       "      <th>1</th>\n",
       "      <td>0</td>\n",
       "      <td>1</td>\n",
       "      <td>h</td>\n",
       "      <td>2016-06-01</td>\n",
       "      <td>18:12</td>\n",
       "      <td>0</td>\n",
       "      <td>NaN</td>\n",
       "      <td>기타 미용업</td>\n",
       "      <td>857.142857</td>\n",
       "      <td>2016</td>\n",
       "      <td>6</td>\n",
       "      <td>1</td>\n",
       "      <td>18</td>\n",
       "      <td>12</td>\n",
       "    </tr>\n",
       "    <tr>\n",
       "      <th>2</th>\n",
       "      <td>0</td>\n",
       "      <td>2</td>\n",
       "      <td>c</td>\n",
       "      <td>2016-06-01</td>\n",
       "      <td>18:52</td>\n",
       "      <td>0</td>\n",
       "      <td>NaN</td>\n",
       "      <td>기타 미용업</td>\n",
       "      <td>2000.000000</td>\n",
       "      <td>2016</td>\n",
       "      <td>6</td>\n",
       "      <td>1</td>\n",
       "      <td>18</td>\n",
       "      <td>52</td>\n",
       "    </tr>\n",
       "    <tr>\n",
       "      <th>3</th>\n",
       "      <td>0</td>\n",
       "      <td>3</td>\n",
       "      <td>a</td>\n",
       "      <td>2016-06-01</td>\n",
       "      <td>20:22</td>\n",
       "      <td>0</td>\n",
       "      <td>NaN</td>\n",
       "      <td>기타 미용업</td>\n",
       "      <td>7857.142857</td>\n",
       "      <td>2016</td>\n",
       "      <td>6</td>\n",
       "      <td>1</td>\n",
       "      <td>20</td>\n",
       "      <td>22</td>\n",
       "    </tr>\n",
       "    <tr>\n",
       "      <th>4</th>\n",
       "      <td>0</td>\n",
       "      <td>4</td>\n",
       "      <td>c</td>\n",
       "      <td>2016-06-02</td>\n",
       "      <td>11:06</td>\n",
       "      <td>0</td>\n",
       "      <td>NaN</td>\n",
       "      <td>기타 미용업</td>\n",
       "      <td>2000.000000</td>\n",
       "      <td>2016</td>\n",
       "      <td>6</td>\n",
       "      <td>2</td>\n",
       "      <td>11</td>\n",
       "      <td>6</td>\n",
       "    </tr>\n",
       "  </tbody>\n",
       "</table>\n",
       "</div>"
      ],
      "text/plain": [
       "   store_id  card_id card_company transacted_date transacted_time  \\\n",
       "0         0        0            b      2016-06-01           13:13   \n",
       "1         0        1            h      2016-06-01           18:12   \n",
       "2         0        2            c      2016-06-01           18:52   \n",
       "3         0        3            a      2016-06-01           20:22   \n",
       "4         0        4            c      2016-06-02           11:06   \n",
       "\n",
       "   installment_term region type_of_business       amount  year  month  day  \\\n",
       "0                 0    NaN           기타 미용업  1857.142857  2016      6    1   \n",
       "1                 0    NaN           기타 미용업   857.142857  2016      6    1   \n",
       "2                 0    NaN           기타 미용업  2000.000000  2016      6    1   \n",
       "3                 0    NaN           기타 미용업  7857.142857  2016      6    1   \n",
       "4                 0    NaN           기타 미용업  2000.000000  2016      6    2   \n",
       "\n",
       "   hour  minute  \n",
       "0    13      13  \n",
       "1    18      12  \n",
       "2    18      52  \n",
       "3    20      22  \n",
       "4    11       6  "
      ]
     },
     "execution_count": 62,
     "metadata": {},
     "output_type": "execute_result"
    }
   ],
   "source": [
    "train['year'] = train['transacted_date'].apply(lambda x : x.split('-')[0]).apply(int)\n",
    "train['month'] = train['transacted_date'].apply(lambda x : x.split('-')[1]).apply(int)\n",
    "train['day'] = train['transacted_date'].apply(lambda x : x.split('-')[2]).apply(int)\n",
    "\n",
    "train['hour'] = train['transacted_time'].apply(lambda x : x.split(':')[0]).apply(int)\n",
    "train['minute'] = train['transacted_time'].apply(lambda x : x.split(':')[1]).apply(int)\n",
    "\n",
    "train.head()"
   ]
  },
  {
   "cell_type": "markdown",
   "metadata": {},
   "source": [
    "# submission file"
   ]
  },
  {
   "cell_type": "code",
   "execution_count": 4,
   "metadata": {
    "ExecuteTime": {
     "end_time": "2019-08-01T11:18:48.324216Z",
     "start_time": "2019-08-01T11:18:48.301200Z"
    }
   },
   "outputs": [
    {
     "name": "stdout",
     "output_type": "stream",
     "text": [
      "(1967, 2)\n"
     ]
    },
    {
     "data": {
      "text/html": [
       "<div>\n",
       "<style scoped>\n",
       "    .dataframe tbody tr th:only-of-type {\n",
       "        vertical-align: middle;\n",
       "    }\n",
       "\n",
       "    .dataframe tbody tr th {\n",
       "        vertical-align: top;\n",
       "    }\n",
       "\n",
       "    .dataframe thead th {\n",
       "        text-align: right;\n",
       "    }\n",
       "</style>\n",
       "<table border=\"1\" class=\"dataframe\">\n",
       "  <thead>\n",
       "    <tr style=\"text-align: right;\">\n",
       "      <th></th>\n",
       "      <th>store_id</th>\n",
       "      <th>amount</th>\n",
       "    </tr>\n",
       "  </thead>\n",
       "  <tbody>\n",
       "    <tr>\n",
       "      <th>0</th>\n",
       "      <td>0</td>\n",
       "      <td>0</td>\n",
       "    </tr>\n",
       "    <tr>\n",
       "      <th>1</th>\n",
       "      <td>1</td>\n",
       "      <td>0</td>\n",
       "    </tr>\n",
       "    <tr>\n",
       "      <th>2</th>\n",
       "      <td>2</td>\n",
       "      <td>0</td>\n",
       "    </tr>\n",
       "    <tr>\n",
       "      <th>3</th>\n",
       "      <td>4</td>\n",
       "      <td>0</td>\n",
       "    </tr>\n",
       "    <tr>\n",
       "      <th>4</th>\n",
       "      <td>5</td>\n",
       "      <td>0</td>\n",
       "    </tr>\n",
       "  </tbody>\n",
       "</table>\n",
       "</div>"
      ],
      "text/plain": [
       "   store_id  amount\n",
       "0         0       0\n",
       "1         1       0\n",
       "2         2       0\n",
       "3         4       0\n",
       "4         5       0"
      ]
     },
     "execution_count": 4,
     "metadata": {},
     "output_type": "execute_result"
    }
   ],
   "source": [
    "sub = pd.read_csv('./submission.csv')\n",
    "print(sub.shape)\n",
    "sub.head()"
   ]
  },
  {
   "cell_type": "code",
   "execution_count": 5,
   "metadata": {
    "ExecuteTime": {
     "end_time": "2019-08-01T11:19:45.215239Z",
     "start_time": "2019-08-01T11:19:45.209229Z"
    }
   },
   "outputs": [
    {
     "name": "stdout",
     "output_type": "stream",
     "text": [
      "(1967, 2)\n",
      "1967\n"
     ]
    }
   ],
   "source": [
    "print(sub.shape)\n",
    "print(len(sub.store_id.unique()))"
   ]
  },
  {
   "cell_type": "code",
   "execution_count": 22,
   "metadata": {
    "ExecuteTime": {
     "end_time": "2019-08-01T11:38:45.031143Z",
     "start_time": "2019-08-01T11:38:43.765435Z"
    }
   },
   "outputs": [
    {
     "name": "stdout",
     "output_type": "stream",
     "text": [
      "train data의 모든 store_id와 동일하다\n"
     ]
    }
   ],
   "source": [
    "print('train data의 모든 store_id와 동일하다') if set(sub.store_id) - set(train.store_id) == set() else print('nope')"
   ]
  },
  {
   "cell_type": "markdown",
   "metadata": {},
   "source": [
    "# target value"
   ]
  },
  {
   "cell_type": "code",
   "execution_count": 26,
   "metadata": {
    "ExecuteTime": {
     "end_time": "2019-08-01T11:41:38.525955Z",
     "start_time": "2019-08-01T11:41:35.908798Z"
    }
   },
   "outputs": [
    {
     "data": {
      "text/html": [
       "<div>\n",
       "<style scoped>\n",
       "    .dataframe tbody tr th:only-of-type {\n",
       "        vertical-align: middle;\n",
       "    }\n",
       "\n",
       "    .dataframe tbody tr th {\n",
       "        vertical-align: top;\n",
       "    }\n",
       "\n",
       "    .dataframe thead th {\n",
       "        text-align: right;\n",
       "    }\n",
       "</style>\n",
       "<table border=\"1\" class=\"dataframe\">\n",
       "  <thead>\n",
       "    <tr style=\"text-align: right;\">\n",
       "      <th></th>\n",
       "      <th>sum</th>\n",
       "      <th>var</th>\n",
       "      <th>nunique</th>\n",
       "      <th>mean</th>\n",
       "      <th>count</th>\n",
       "    </tr>\n",
       "    <tr>\n",
       "      <th>store_id</th>\n",
       "      <th></th>\n",
       "      <th></th>\n",
       "      <th></th>\n",
       "      <th></th>\n",
       "      <th></th>\n",
       "    </tr>\n",
       "  </thead>\n",
       "  <tbody>\n",
       "    <tr>\n",
       "      <th>0</th>\n",
       "      <td>2.417447e+07</td>\n",
       "      <td>2.884415e+07</td>\n",
       "      <td>110</td>\n",
       "      <td>5394.883157</td>\n",
       "      <td>4481</td>\n",
       "    </tr>\n",
       "    <tr>\n",
       "      <th>1</th>\n",
       "      <td>3.668643e+06</td>\n",
       "      <td>1.962944e+05</td>\n",
       "      <td>48</td>\n",
       "      <td>970.027196</td>\n",
       "      <td>3782</td>\n",
       "    </tr>\n",
       "    <tr>\n",
       "      <th>2</th>\n",
       "      <td>8.843000e+06</td>\n",
       "      <td>1.454211e+08</td>\n",
       "      <td>84</td>\n",
       "      <td>15142.123288</td>\n",
       "      <td>584</td>\n",
       "    </tr>\n",
       "    <tr>\n",
       "      <th>4</th>\n",
       "      <td>2.990096e+07</td>\n",
       "      <td>1.428485e+07</td>\n",
       "      <td>232</td>\n",
       "      <td>5128.809115</td>\n",
       "      <td>5830</td>\n",
       "    </tr>\n",
       "    <tr>\n",
       "      <th>5</th>\n",
       "      <td>1.086164e+07</td>\n",
       "      <td>2.469484e+07</td>\n",
       "      <td>204</td>\n",
       "      <td>5547.315045</td>\n",
       "      <td>1958</td>\n",
       "    </tr>\n",
       "  </tbody>\n",
       "</table>\n",
       "</div>"
      ],
      "text/plain": [
       "                   sum           var  nunique          mean  count\n",
       "store_id                                                          \n",
       "0         2.417447e+07  2.884415e+07      110   5394.883157   4481\n",
       "1         3.668643e+06  1.962944e+05       48    970.027196   3782\n",
       "2         8.843000e+06  1.454211e+08       84  15142.123288    584\n",
       "4         2.990096e+07  1.428485e+07      232   5128.809115   5830\n",
       "5         1.086164e+07  2.469484e+07      204   5547.315045   1958"
      ]
     },
     "execution_count": 26,
     "metadata": {},
     "output_type": "execute_result"
    }
   ],
   "source": [
    "target_stat = train.groupby('store_id')['amount'].agg(['sum','var','nunique', 'mean','count'])\n",
    "target_stat.head()"
   ]
  },
  {
   "cell_type": "code",
   "execution_count": 52,
   "metadata": {
    "ExecuteTime": {
     "end_time": "2019-08-01T12:04:38.278448Z",
     "start_time": "2019-08-01T12:04:38.253547Z"
    }
   },
   "outputs": [],
   "source": [
    "sub1 = sub.copy()\n",
    "sub1 = sub1.set_index('store_id')\n",
    "sub1['amount'] = target_stat['mean']\n",
    "#sub1.to_csv('./sub/20190801_target_mean.csv') #- 3175040.514030"
   ]
  },
  {
   "cell_type": "code",
   "execution_count": 56,
   "metadata": {
    "ExecuteTime": {
     "end_time": "2019-08-01T12:06:50.506003Z",
     "start_time": "2019-08-01T12:06:50.500922Z"
    }
   },
   "outputs": [
    {
     "name": "stdout",
     "output_type": "stream",
     "text": [
      "(1967, 2)\n",
      "(1967, 1)\n"
     ]
    }
   ],
   "source": [
    "print(sub.shape)\n",
    "print(sub1.shape)"
   ]
  },
  {
   "cell_type": "code",
   "execution_count": 39,
   "metadata": {
    "ExecuteTime": {
     "end_time": "2019-08-01T12:01:57.079446Z",
     "start_time": "2019-08-01T12:01:48.205733Z"
    }
   },
   "outputs": [
    {
     "data": {
      "text/html": [
       "<div>\n",
       "<style scoped>\n",
       "    .dataframe tbody tr th:only-of-type {\n",
       "        vertical-align: middle;\n",
       "    }\n",
       "\n",
       "    .dataframe tbody tr th {\n",
       "        vertical-align: top;\n",
       "    }\n",
       "\n",
       "    .dataframe thead th {\n",
       "        text-align: right;\n",
       "    }\n",
       "</style>\n",
       "<table border=\"1\" class=\"dataframe\">\n",
       "  <thead>\n",
       "    <tr style=\"text-align: right;\">\n",
       "      <th></th>\n",
       "      <th>date_count</th>\n",
       "    </tr>\n",
       "    <tr>\n",
       "      <th>store_id</th>\n",
       "      <th></th>\n",
       "    </tr>\n",
       "  </thead>\n",
       "  <tbody>\n",
       "    <tr>\n",
       "      <th>0</th>\n",
       "      <td>803</td>\n",
       "    </tr>\n",
       "    <tr>\n",
       "      <th>1</th>\n",
       "      <td>673</td>\n",
       "    </tr>\n",
       "    <tr>\n",
       "      <th>2</th>\n",
       "      <td>276</td>\n",
       "    </tr>\n",
       "    <tr>\n",
       "      <th>4</th>\n",
       "      <td>893</td>\n",
       "    </tr>\n",
       "    <tr>\n",
       "      <th>5</th>\n",
       "      <td>661</td>\n",
       "    </tr>\n",
       "  </tbody>\n",
       "</table>\n",
       "</div>"
      ],
      "text/plain": [
       "          date_count\n",
       "store_id            \n",
       "0                803\n",
       "1                673\n",
       "2                276\n",
       "4                893\n",
       "5                661"
      ]
     },
     "execution_count": 39,
     "metadata": {},
     "output_type": "execute_result"
    }
   ],
   "source": [
    "#store_id별 거래가 있었던 날짜 수\n",
    "date_count = train.groupby(['store_id'])['transacted_date'].nunique().to_frame()\n",
    "date_count.columns = ['date_count']\n",
    "\n",
    "date_count.head()"
   ]
  },
  {
   "cell_type": "code",
   "execution_count": 40,
   "metadata": {
    "ExecuteTime": {
     "end_time": "2019-08-01T12:01:57.091414Z",
     "start_time": "2019-08-01T12:01:57.083436Z"
    }
   },
   "outputs": [
    {
     "name": "stdout",
     "output_type": "stream",
     "text": [
      "(1967, 5)\n",
      "(1967, 1)\n"
     ]
    }
   ],
   "source": [
    "print(target_stat.shape)\n",
    "print(date_count.shape)"
   ]
  },
  {
   "cell_type": "code",
   "execution_count": 41,
   "metadata": {
    "ExecuteTime": {
     "end_time": "2019-08-01T12:02:03.816096Z",
     "start_time": "2019-08-01T12:02:03.797139Z"
    }
   },
   "outputs": [
    {
     "data": {
      "text/html": [
       "<div>\n",
       "<style scoped>\n",
       "    .dataframe tbody tr th:only-of-type {\n",
       "        vertical-align: middle;\n",
       "    }\n",
       "\n",
       "    .dataframe tbody tr th {\n",
       "        vertical-align: top;\n",
       "    }\n",
       "\n",
       "    .dataframe thead th {\n",
       "        text-align: right;\n",
       "    }\n",
       "</style>\n",
       "<table border=\"1\" class=\"dataframe\">\n",
       "  <thead>\n",
       "    <tr style=\"text-align: right;\">\n",
       "      <th></th>\n",
       "      <th>date_count</th>\n",
       "      <th>sum</th>\n",
       "      <th>amount</th>\n",
       "    </tr>\n",
       "    <tr>\n",
       "      <th>store_id</th>\n",
       "      <th></th>\n",
       "      <th></th>\n",
       "      <th></th>\n",
       "    </tr>\n",
       "  </thead>\n",
       "  <tbody>\n",
       "    <tr>\n",
       "      <th>0</th>\n",
       "      <td>803</td>\n",
       "      <td>2.417447e+07</td>\n",
       "      <td>2.769678e+06</td>\n",
       "    </tr>\n",
       "    <tr>\n",
       "      <th>1</th>\n",
       "      <td>673</td>\n",
       "      <td>3.668643e+06</td>\n",
       "      <td>5.015084e+05</td>\n",
       "    </tr>\n",
       "    <tr>\n",
       "      <th>2</th>\n",
       "      <td>276</td>\n",
       "      <td>8.843000e+06</td>\n",
       "      <td>2.947667e+06</td>\n",
       "    </tr>\n",
       "    <tr>\n",
       "      <th>4</th>\n",
       "      <td>893</td>\n",
       "      <td>2.990096e+07</td>\n",
       "      <td>3.080502e+06</td>\n",
       "    </tr>\n",
       "    <tr>\n",
       "      <th>5</th>\n",
       "      <td>661</td>\n",
       "      <td>1.086164e+07</td>\n",
       "      <td>1.511757e+06</td>\n",
       "    </tr>\n",
       "  </tbody>\n",
       "</table>\n",
       "</div>"
      ],
      "text/plain": [
       "          date_count           sum        amount\n",
       "store_id                                        \n",
       "0                803  2.417447e+07  2.769678e+06\n",
       "1                673  3.668643e+06  5.015084e+05\n",
       "2                276  8.843000e+06  2.947667e+06\n",
       "4                893  2.990096e+07  3.080502e+06\n",
       "5                661  1.086164e+07  1.511757e+06"
      ]
     },
     "execution_count": 41,
     "metadata": {},
     "output_type": "execute_result"
    }
   ],
   "source": [
    "date_count['sum'] = target_stat['sum']\n",
    "date_count['amount'] = date_count['sum'] / date_count['date_count'] * 92\n",
    "date_count.head()"
   ]
  },
  {
   "cell_type": "code",
   "execution_count": 60,
   "metadata": {
    "ExecuteTime": {
     "end_time": "2019-08-01T12:10:03.439960Z",
     "start_time": "2019-08-01T12:10:03.414029Z"
    }
   },
   "outputs": [],
   "source": [
    "#amount의 합을 거래가 있었던 날짜 수로 나누고, 우리가 예측해야하는 3달인 92를 곱한 간단한 계산\n",
    "#date_count[['amount']].to_csv('./sub/20190801_divided_by_date_count.csv') - 2,149,999.12868"
   ]
  },
  {
   "cell_type": "markdown",
   "metadata": {},
   "source": [
    "# NA"
   ]
  },
  {
   "cell_type": "code",
   "execution_count": 61,
   "metadata": {
    "ExecuteTime": {
     "end_time": "2019-08-01T12:16:33.261765Z",
     "start_time": "2019-08-01T12:16:33.238824Z"
    }
   },
   "outputs": [
    {
     "data": {
      "text/html": [
       "<div>\n",
       "<style scoped>\n",
       "    .dataframe tbody tr th:only-of-type {\n",
       "        vertical-align: middle;\n",
       "    }\n",
       "\n",
       "    .dataframe tbody tr th {\n",
       "        vertical-align: top;\n",
       "    }\n",
       "\n",
       "    .dataframe thead th {\n",
       "        text-align: right;\n",
       "    }\n",
       "</style>\n",
       "<table border=\"1\" class=\"dataframe\">\n",
       "  <thead>\n",
       "    <tr style=\"text-align: right;\">\n",
       "      <th></th>\n",
       "      <th>store_id</th>\n",
       "      <th>card_id</th>\n",
       "      <th>card_company</th>\n",
       "      <th>transacted_date</th>\n",
       "      <th>transacted_time</th>\n",
       "      <th>installment_term</th>\n",
       "      <th>region</th>\n",
       "      <th>type_of_business</th>\n",
       "      <th>amount</th>\n",
       "      <th>year</th>\n",
       "      <th>month</th>\n",
       "      <th>day</th>\n",
       "      <th>hour</th>\n",
       "      <th>minute</th>\n",
       "    </tr>\n",
       "  </thead>\n",
       "  <tbody>\n",
       "    <tr>\n",
       "      <th>0</th>\n",
       "      <td>0</td>\n",
       "      <td>0</td>\n",
       "      <td>b</td>\n",
       "      <td>2016-06-01</td>\n",
       "      <td>13:13</td>\n",
       "      <td>0</td>\n",
       "      <td>NaN</td>\n",
       "      <td>기타 미용업</td>\n",
       "      <td>1857.142857</td>\n",
       "      <td>2016</td>\n",
       "      <td>6</td>\n",
       "      <td>1</td>\n",
       "      <td>13</td>\n",
       "      <td>13</td>\n",
       "    </tr>\n",
       "    <tr>\n",
       "      <th>1</th>\n",
       "      <td>0</td>\n",
       "      <td>1</td>\n",
       "      <td>h</td>\n",
       "      <td>2016-06-01</td>\n",
       "      <td>18:12</td>\n",
       "      <td>0</td>\n",
       "      <td>NaN</td>\n",
       "      <td>기타 미용업</td>\n",
       "      <td>857.142857</td>\n",
       "      <td>2016</td>\n",
       "      <td>6</td>\n",
       "      <td>1</td>\n",
       "      <td>18</td>\n",
       "      <td>12</td>\n",
       "    </tr>\n",
       "    <tr>\n",
       "      <th>2</th>\n",
       "      <td>0</td>\n",
       "      <td>2</td>\n",
       "      <td>c</td>\n",
       "      <td>2016-06-01</td>\n",
       "      <td>18:52</td>\n",
       "      <td>0</td>\n",
       "      <td>NaN</td>\n",
       "      <td>기타 미용업</td>\n",
       "      <td>2000.000000</td>\n",
       "      <td>2016</td>\n",
       "      <td>6</td>\n",
       "      <td>1</td>\n",
       "      <td>18</td>\n",
       "      <td>52</td>\n",
       "    </tr>\n",
       "    <tr>\n",
       "      <th>3</th>\n",
       "      <td>0</td>\n",
       "      <td>3</td>\n",
       "      <td>a</td>\n",
       "      <td>2016-06-01</td>\n",
       "      <td>20:22</td>\n",
       "      <td>0</td>\n",
       "      <td>NaN</td>\n",
       "      <td>기타 미용업</td>\n",
       "      <td>7857.142857</td>\n",
       "      <td>2016</td>\n",
       "      <td>6</td>\n",
       "      <td>1</td>\n",
       "      <td>20</td>\n",
       "      <td>22</td>\n",
       "    </tr>\n",
       "    <tr>\n",
       "      <th>4</th>\n",
       "      <td>0</td>\n",
       "      <td>4</td>\n",
       "      <td>c</td>\n",
       "      <td>2016-06-02</td>\n",
       "      <td>11:06</td>\n",
       "      <td>0</td>\n",
       "      <td>NaN</td>\n",
       "      <td>기타 미용업</td>\n",
       "      <td>2000.000000</td>\n",
       "      <td>2016</td>\n",
       "      <td>6</td>\n",
       "      <td>2</td>\n",
       "      <td>11</td>\n",
       "      <td>6</td>\n",
       "    </tr>\n",
       "  </tbody>\n",
       "</table>\n",
       "</div>"
      ],
      "text/plain": [
       "   store_id  card_id card_company transacted_date transacted_time  \\\n",
       "0         0        0            b      2016-06-01           13:13   \n",
       "1         0        1            h      2016-06-01           18:12   \n",
       "2         0        2            c      2016-06-01           18:52   \n",
       "3         0        3            a      2016-06-01           20:22   \n",
       "4         0        4            c      2016-06-02           11:06   \n",
       "\n",
       "   installment_term region type_of_business       amount  year  month  day  \\\n",
       "0                 0    NaN           기타 미용업  1857.142857  2016      6    1   \n",
       "1                 0    NaN           기타 미용업   857.142857  2016      6    1   \n",
       "2                 0    NaN           기타 미용업  2000.000000  2016      6    1   \n",
       "3                 0    NaN           기타 미용업  7857.142857  2016      6    1   \n",
       "4                 0    NaN           기타 미용업  2000.000000  2016      6    2   \n",
       "\n",
       "   hour  minute  \n",
       "0    13      13  \n",
       "1    18      12  \n",
       "2    18      52  \n",
       "3    20      22  \n",
       "4    11       6  "
      ]
     },
     "execution_count": 61,
     "metadata": {},
     "output_type": "execute_result"
    }
   ],
   "source": [
    "train.head()"
   ]
  },
  {
   "cell_type": "code",
   "execution_count": 63,
   "metadata": {
    "ExecuteTime": {
     "end_time": "2019-08-01T12:18:25.637351Z",
     "start_time": "2019-08-01T12:18:24.292946Z"
    }
   },
   "outputs": [
    {
     "data": {
      "text/plain": [
       "store_id                  0\n",
       "card_id                   0\n",
       "card_company              0\n",
       "transacted_date           0\n",
       "transacted_time           0\n",
       "installment_term          0\n",
       "region              2042766\n",
       "type_of_business    3952609\n",
       "amount                    0\n",
       "year                      0\n",
       "month                     0\n",
       "day                       0\n",
       "hour                      0\n",
       "minute                    0\n",
       "dtype: int64"
      ]
     },
     "execution_count": 63,
     "metadata": {},
     "output_type": "execute_result"
    }
   ],
   "source": [
    "train.isnull().sum()"
   ]
  },
  {
   "cell_type": "code",
   "execution_count": 72,
   "metadata": {
    "ExecuteTime": {
     "end_time": "2019-08-01T12:22:10.016512Z",
     "start_time": "2019-08-01T12:22:10.012523Z"
    }
   },
   "outputs": [],
   "source": [
    "import missingno as msno\n",
    "import matplotlib.pyplot as plt"
   ]
  },
  {
   "cell_type": "code",
   "execution_count": 73,
   "metadata": {
    "ExecuteTime": {
     "end_time": "2019-08-01T12:22:33.879470Z",
     "start_time": "2019-08-01T12:22:10.507382Z"
    }
   },
   "outputs": [
    {
     "data": {
      "image/png": "[encoded data removed]",
      "text/plain": [
       "<Figure size 1800x720 with 2 Axes>"
      ]
     },
     "metadata": {
      "needs_background": "light"
     },
     "output_type": "display_data"
    }
   ],
   "source": [
    "msno.matrix(train)\n",
    "plt.show()"
   ]
  },
  {
   "cell_type": "code",
   "execution_count": 75,
   "metadata": {
    "ExecuteTime": {
     "end_time": "2019-08-01T12:24:38.252083Z",
     "start_time": "2019-08-01T12:24:35.787639Z"
    }
   },
   "outputs": [
    {
     "name": "stdout",
     "output_type": "stream",
     "text": [
      "region 0.31155811697289437%\n",
      "type of business 0.6028431142725672%\n"
     ]
    },
    {
     "data": {
      "image/png": "[encoded data removed]",
      "text/plain": [
       "<Figure size 1728x720 with 3 Axes>"
      ]
     },
     "metadata": {
      "needs_background": "light"
     },
     "output_type": "display_data"
    }
   ],
   "source": [
    "print('region {}%'.format(train.region.isnull().sum() / len(train)))\n",
    "print('type of business {}%'.format(train.type_of_business.isnull().sum() / len(train)))\n",
    "\n",
    "msno.bar(train)\n",
    "plt.show()"
   ]
  },
  {
   "cell_type": "markdown",
   "metadata": {},
   "source": [
    "## region\n",
    "- region은 store_id의 지역!\n",
    "- 같은 store_id라면 같은 region!\n",
    "- store_id를 기준으로 보았을 때, 690개의 store가 region이 없음"
   ]
  },
  {
   "cell_type": "code",
   "execution_count": 116,
   "metadata": {
    "ExecuteTime": {
     "end_time": "2019-08-01T12:45:29.897818Z",
     "start_time": "2019-08-01T12:45:29.586669Z"
    }
   },
   "outputs": [
    {
     "name": "stdout",
     "output_type": "stream",
     "text": [
      "region NA인 store_id의 개수 :  690\n",
      "region NA인 store_id의 비율 :  0.35078800203355365\n"
     ]
    }
   ],
   "source": [
    "region_NA = train.loc[train.region.isnull(), 'store_id'].unique()\n",
    "print('region NA인 store_id의 개수 : ', len(region_NA))\n",
    "print('region NA인 store_id의 비율 : ', len(region_NA) / len(train.store_id.unique()))"
   ]
  },
  {
   "cell_type": "markdown",
   "metadata": {},
   "source": [
    "## type of business\n",
    "- type of business은 store_id의 업종!\n",
    "- 같은 store_id라면 같은 type of business!\n",
    "- store_id를 기준으로 보았을 때, 1175개의 store가 type of business이 없음"
   ]
  },
  {
   "cell_type": "code",
   "execution_count": 117,
   "metadata": {
    "ExecuteTime": {
     "end_time": "2019-08-01T12:45:54.900113Z",
     "start_time": "2019-08-01T12:45:54.570997Z"
    }
   },
   "outputs": [
    {
     "name": "stdout",
     "output_type": "stream",
     "text": [
      "type_of_business NA인 store_id의 개수 :  1175\n",
      "type_of_business NA인 store_id의 비율 :  0.5973563802745298\n"
     ]
    }
   ],
   "source": [
    "business_NA = train.loc[train.type_of_business.isnull(), 'store_id'].unique()\n",
    "print('type_of_business NA인 store_id의 개수 : ', len(business_NA))\n",
    "print('type_of_business NA인 store_id의 비율 : ', len(business_NA) / len(train.store_id.unique()))"
   ]
  },
  {
   "cell_type": "markdown",
   "metadata": {},
   "source": [
    "## both"
   ]
  },
  {
   "cell_type": "code",
   "execution_count": 118,
   "metadata": {
    "ExecuteTime": {
     "end_time": "2019-08-01T12:47:03.185301Z",
     "start_time": "2019-08-01T12:47:03.122467Z"
    }
   },
   "outputs": [
    {
     "name": "stdout",
     "output_type": "stream",
     "text": [
      "type_of_business & region NA인 store_id의 개수 :  600\n",
      "type_of_business & region NA인 store_id의  비율 :  0.3050330452465684\n"
     ]
    }
   ],
   "source": [
    "print('type_of_business & region NA인 store_id의 개수 : ', len(set(region_NA).intersection(set(business_NA))))\n",
    "print('type_of_business & region NA인 store_id의  비율 : ', len(set(region_NA).intersection(set(business_NA))) / len(train.store_id.unique()))"
   ]
  },
  {
   "cell_type": "code",
   "execution_count": 120,
   "metadata": {
    "ExecuteTime": {
     "end_time": "2019-08-01T12:47:55.979509Z",
     "start_time": "2019-08-01T12:47:55.971529Z"
    }
   },
   "outputs": [
    {
     "name": "stdout",
     "output_type": "stream",
     "text": [
      "region만 NA인 개수 :  90\n",
      "type of business만 NA인 개수 :  575\n"
     ]
    }
   ],
   "source": [
    "print('region만 NA인 개수 : ', len(set(region_NA) - set(business_NA)))\n",
    "print('type of business만 NA인 개수 : ', len(set(business_NA) - set(region_NA)))"
   ]
  }
 ],
 "metadata": {
  "hide_input": false,
  "kernelspec": {
   "display_name": "Python 3",
   "language": "python",
   "name": "python3"
  },
  "language_info": {
   "codemirror_mode": {
    "name": "ipython",
    "version": 3
   },
   "file_extension": ".py",
   "mimetype": "text/x-python",
   "name": "python",
   "nbconvert_exporter": "python",
   "pygments_lexer": "ipython3",
   "version": "3.7.1"
  },
  "toc": {
   "base_numbering": 1,
   "nav_menu": {},
   "number_sections": true,
   "sideBar": true,
   "skip_h1_title": false,
   "title_cell": "Table of Contents",
   "title_sidebar": "Contents",
   "toc_cell": false,
   "toc_position": {},
   "toc_section_display": true,
   "toc_window_display": false
  }
 },
 "nbformat": 4,
 "nbformat_minor": 2
}

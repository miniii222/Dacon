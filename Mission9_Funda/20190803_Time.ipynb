{
 "cells": [
  {
   "cell_type": "code",
   "execution_count": 1,
   "metadata": {
    "ExecuteTime": {
     "end_time": "2019-08-03T02:53:28.285022Z",
     "start_time": "2019-08-03T02:53:24.521587Z"
    }
   },
   "outputs": [
    {
     "data": {
      "text/plain": [
       "['.ipynb_checkpoints',\n",
       " 'code',\n",
       " 'funda_train.csv',\n",
       " 'sub',\n",
       " 'submission.csv',\n",
       " 'train2.pkl']"
      ]
     },
     "execution_count": 1,
     "metadata": {},
     "output_type": "execute_result"
    }
   ],
   "source": [
    "import pandas as pd\n",
    "import numpy as np\n",
    "import os\n",
    "\n",
    "os.listdir('../')"
   ]
  },
  {
   "cell_type": "code",
   "execution_count": 4,
   "metadata": {
    "ExecuteTime": {
     "end_time": "2019-08-03T02:54:35.958707Z",
     "start_time": "2019-08-03T02:54:26.001360Z"
    }
   },
   "outputs": [
    {
     "data": {
      "text/plain": [
       "(6556613, 19)"
      ]
     },
     "execution_count": 4,
     "metadata": {},
     "output_type": "execute_result"
    }
   ],
   "source": [
    "path = '../'\n",
    "train = pd.read_pickle(path + 'train2.pkl')\n",
    "train.shape"
   ]
  },
  {
   "cell_type": "code",
   "execution_count": 6,
   "metadata": {
    "ExecuteTime": {
     "end_time": "2019-08-03T02:54:42.445745Z",
     "start_time": "2019-08-03T02:54:42.416795Z"
    }
   },
   "outputs": [
    {
     "data": {
      "text/html": [
       "<div>\n",
       "<style scoped>\n",
       "    .dataframe tbody tr th:only-of-type {\n",
       "        vertical-align: middle;\n",
       "    }\n",
       "\n",
       "    .dataframe tbody tr th {\n",
       "        vertical-align: top;\n",
       "    }\n",
       "\n",
       "    .dataframe thead th {\n",
       "        text-align: right;\n",
       "    }\n",
       "</style>\n",
       "<table border=\"1\" class=\"dataframe\">\n",
       "  <thead>\n",
       "    <tr style=\"text-align: right;\">\n",
       "      <th></th>\n",
       "      <th>store_id</th>\n",
       "      <th>card_id</th>\n",
       "      <th>card_company</th>\n",
       "      <th>transacted_date</th>\n",
       "      <th>transacted_time</th>\n",
       "      <th>installment_term</th>\n",
       "      <th>region</th>\n",
       "      <th>type_of_business</th>\n",
       "      <th>amount</th>\n",
       "      <th>year</th>\n",
       "      <th>month</th>\n",
       "      <th>day</th>\n",
       "      <th>hour</th>\n",
       "      <th>minute</th>\n",
       "      <th>point_use</th>\n",
       "      <th>installment</th>\n",
       "      <th>business_type1</th>\n",
       "      <th>city1</th>\n",
       "      <th>city2</th>\n",
       "    </tr>\n",
       "  </thead>\n",
       "  <tbody>\n",
       "    <tr>\n",
       "      <th>0</th>\n",
       "      <td>0</td>\n",
       "      <td>0</td>\n",
       "      <td>b</td>\n",
       "      <td>2016-06-01</td>\n",
       "      <td>13:13:00</td>\n",
       "      <td>0</td>\n",
       "      <td>NaN</td>\n",
       "      <td>기타 미용업</td>\n",
       "      <td>1857.142857</td>\n",
       "      <td>2016</td>\n",
       "      <td>6</td>\n",
       "      <td>1</td>\n",
       "      <td>13</td>\n",
       "      <td>13</td>\n",
       "      <td>0</td>\n",
       "      <td>0</td>\n",
       "      <td>미용업</td>\n",
       "      <td>NaN</td>\n",
       "      <td>NaN</td>\n",
       "    </tr>\n",
       "    <tr>\n",
       "      <th>1</th>\n",
       "      <td>0</td>\n",
       "      <td>1</td>\n",
       "      <td>h</td>\n",
       "      <td>2016-06-01</td>\n",
       "      <td>18:12:00</td>\n",
       "      <td>0</td>\n",
       "      <td>NaN</td>\n",
       "      <td>기타 미용업</td>\n",
       "      <td>857.142857</td>\n",
       "      <td>2016</td>\n",
       "      <td>6</td>\n",
       "      <td>1</td>\n",
       "      <td>18</td>\n",
       "      <td>12</td>\n",
       "      <td>0</td>\n",
       "      <td>0</td>\n",
       "      <td>미용업</td>\n",
       "      <td>NaN</td>\n",
       "      <td>NaN</td>\n",
       "    </tr>\n",
       "    <tr>\n",
       "      <th>2</th>\n",
       "      <td>0</td>\n",
       "      <td>2</td>\n",
       "      <td>c</td>\n",
       "      <td>2016-06-01</td>\n",
       "      <td>18:52:00</td>\n",
       "      <td>0</td>\n",
       "      <td>NaN</td>\n",
       "      <td>기타 미용업</td>\n",
       "      <td>2000.000000</td>\n",
       "      <td>2016</td>\n",
       "      <td>6</td>\n",
       "      <td>1</td>\n",
       "      <td>18</td>\n",
       "      <td>52</td>\n",
       "      <td>0</td>\n",
       "      <td>0</td>\n",
       "      <td>미용업</td>\n",
       "      <td>NaN</td>\n",
       "      <td>NaN</td>\n",
       "    </tr>\n",
       "    <tr>\n",
       "      <th>3</th>\n",
       "      <td>0</td>\n",
       "      <td>3</td>\n",
       "      <td>a</td>\n",
       "      <td>2016-06-01</td>\n",
       "      <td>20:22:00</td>\n",
       "      <td>0</td>\n",
       "      <td>NaN</td>\n",
       "      <td>기타 미용업</td>\n",
       "      <td>7857.142857</td>\n",
       "      <td>2016</td>\n",
       "      <td>6</td>\n",
       "      <td>1</td>\n",
       "      <td>20</td>\n",
       "      <td>22</td>\n",
       "      <td>0</td>\n",
       "      <td>0</td>\n",
       "      <td>미용업</td>\n",
       "      <td>NaN</td>\n",
       "      <td>NaN</td>\n",
       "    </tr>\n",
       "    <tr>\n",
       "      <th>4</th>\n",
       "      <td>0</td>\n",
       "      <td>4</td>\n",
       "      <td>c</td>\n",
       "      <td>2016-06-02</td>\n",
       "      <td>11:06:00</td>\n",
       "      <td>0</td>\n",
       "      <td>NaN</td>\n",
       "      <td>기타 미용업</td>\n",
       "      <td>2000.000000</td>\n",
       "      <td>2016</td>\n",
       "      <td>6</td>\n",
       "      <td>2</td>\n",
       "      <td>11</td>\n",
       "      <td>6</td>\n",
       "      <td>0</td>\n",
       "      <td>0</td>\n",
       "      <td>미용업</td>\n",
       "      <td>NaN</td>\n",
       "      <td>NaN</td>\n",
       "    </tr>\n",
       "  </tbody>\n",
       "</table>\n",
       "</div>"
      ],
      "text/plain": [
       "   store_id  card_id card_company transacted_date transacted_time  \\\n",
       "0         0        0            b      2016-06-01        13:13:00   \n",
       "1         0        1            h      2016-06-01        18:12:00   \n",
       "2         0        2            c      2016-06-01        18:52:00   \n",
       "3         0        3            a      2016-06-01        20:22:00   \n",
       "4         0        4            c      2016-06-02        11:06:00   \n",
       "\n",
       "   installment_term region type_of_business       amount  year  month  day  \\\n",
       "0                 0    NaN           기타 미용업  1857.142857  2016      6    1   \n",
       "1                 0    NaN           기타 미용업   857.142857  2016      6    1   \n",
       "2                 0    NaN           기타 미용업  2000.000000  2016      6    1   \n",
       "3                 0    NaN           기타 미용업  7857.142857  2016      6    1   \n",
       "4                 0    NaN           기타 미용업  2000.000000  2016      6    2   \n",
       "\n",
       "   hour  minute  point_use  installment business_type1 city1 city2  \n",
       "0    13      13          0            0            미용업   NaN   NaN  \n",
       "1    18      12          0            0            미용업   NaN   NaN  \n",
       "2    18      52          0            0            미용업   NaN   NaN  \n",
       "3    20      22          0            0            미용업   NaN   NaN  \n",
       "4    11       6          0            0            미용업   NaN   NaN  "
      ]
     },
     "execution_count": 6,
     "metadata": {},
     "output_type": "execute_result"
    }
   ],
   "source": [
    "train.head()"
   ]
  },
  {
   "cell_type": "markdown",
   "metadata": {},
   "source": [
    "# date"
   ]
  },
  {
   "cell_type": "code",
   "execution_count": 15,
   "metadata": {
    "ExecuteTime": {
     "end_time": "2019-08-03T02:57:48.272767Z",
     "start_time": "2019-08-03T02:57:47.984541Z"
    }
   },
   "outputs": [],
   "source": [
    "train['transacted_date'] = pd.to_datetime(train['transacted_date'])"
   ]
  },
  {
   "cell_type": "code",
   "execution_count": 38,
   "metadata": {
    "ExecuteTime": {
     "end_time": "2019-08-03T03:22:59.037914Z",
     "start_time": "2019-08-03T03:22:59.003989Z"
    }
   },
   "outputs": [],
   "source": [
    "def date_block_1_month(date) :\n",
    "    if date < pd.Timestamp(2016,7,1) :\n",
    "        return 1\n",
    "    elif date < pd.Timestamp(2016,8,1) :\n",
    "        return 2\n",
    "    elif date < pd.Timestamp(2016,9,1) :\n",
    "        return 3\n",
    "    elif date < pd.Timestamp(2016,10,1) :\n",
    "        return 4\n",
    "    elif date < pd.Timestamp(2016,11,1) :\n",
    "        return 5\n",
    "    elif date < pd.Timestamp(2016,12,1) :\n",
    "        return 6\n",
    "    elif date < pd.Timestamp(2017,1,1) :\n",
    "        return 7\n",
    "    elif date < pd.Timestamp(2017,2,1) :\n",
    "        return 8\n",
    "    elif date < pd.Timestamp(2017,3,1) :\n",
    "        return 9\n",
    "    elif date < pd.Timestamp(2017,4,1) :\n",
    "        return 10\n",
    "    elif date < pd.Timestamp(2017,5,1) :\n",
    "        return 11\n",
    "    elif date < pd.Timestamp(2017,6,1) :\n",
    "        return 12\n",
    "    elif date < pd.Timestamp(2017,7,1) :\n",
    "        return 13\n",
    "    elif date < pd.Timestamp(2017,8,1) :\n",
    "        return 14\n",
    "    elif date < pd.Timestamp(2017,9,1) :\n",
    "        return 15\n",
    "    elif date < pd.Timestamp(2017,10,1) :\n",
    "        return 16\n",
    "    elif date < pd.Timestamp(2017,11,1) :\n",
    "        return 17\n",
    "    elif date < pd.Timestamp(2017,12,1) :\n",
    "        return 18\n",
    "    elif date < pd.Timestamp(2018,1,1) :\n",
    "        return 19\n",
    "    elif date < pd.Timestamp(2018,2,1) :\n",
    "        return 20\n",
    "    elif date < pd.Timestamp(2018,3,1) :\n",
    "        return 21\n",
    "    elif date < pd.Timestamp(2018,4,1) :\n",
    "        return 22\n",
    "    elif date < pd.Timestamp(2018,5,1) :\n",
    "        return 23\n",
    "    elif date < pd.Timestamp(2018,6,1) :\n",
    "        return 24\n",
    "    elif date < pd.Timestamp(2018,7,1) :\n",
    "        return 25\n",
    "    elif date < pd.Timestamp(2018,8,1) :\n",
    "        return 26\n",
    "    elif date < pd.Timestamp(2018,9,1) :\n",
    "        return 27\n",
    "    elif date < pd.Timestamp(2018,10,1) :\n",
    "        return 28\n",
    "    elif date < pd.Timestamp(2018,11,1) :\n",
    "        return 29\n",
    "    elif date < pd.Timestamp(2018,12,1) :\n",
    "        return 30\n",
    "    elif date < pd.Timestamp(2019,1,1) :\n",
    "        return 31\n",
    "    elif date < pd.Timestamp(2019,2,1) :\n",
    "        return 32\n",
    "    else :\n",
    "        return 33"
   ]
  },
  {
   "cell_type": "code",
   "execution_count": 39,
   "metadata": {
    "ExecuteTime": {
     "end_time": "2019-08-03T03:30:50.161446Z",
     "start_time": "2019-08-03T03:23:02.008991Z"
    }
   },
   "outputs": [],
   "source": [
    "train['date_block_1'] = train.transacted_date.apply(date_block_1_month)"
   ]
  },
  {
   "cell_type": "code",
   "execution_count": 40,
   "metadata": {
    "ExecuteTime": {
     "end_time": "2019-08-03T03:30:50.182546Z",
     "start_time": "2019-08-03T03:30:50.168429Z"
    }
   },
   "outputs": [],
   "source": [
    "def date_block_3_month(date) :\n",
    "    if date < pd.Timestamp(2016,9,1) :\n",
    "        return 1\n",
    "    elif date < pd.Timestamp(2016,12,1) :\n",
    "        return 2\n",
    "    elif date < pd.Timestamp(2017,3,1) :\n",
    "        return 3\n",
    "    elif date < pd.Timestamp(2017,6,1) :\n",
    "        return 4\n",
    "    elif date < pd.Timestamp(2017,9,1) :\n",
    "        return 5\n",
    "    elif date < pd.Timestamp(2017,12,1) :\n",
    "        return 6\n",
    "    elif date < pd.Timestamp(2018,3,1) :\n",
    "        return 7\n",
    "    elif date < pd.Timestamp(2018,6,1) :\n",
    "        return 8\n",
    "    elif date < pd.Timestamp(2018,9,1) :\n",
    "        return 9\n",
    "    elif date < pd.Timestamp(2018,12,1) :\n",
    "        return 10\n",
    "    else :\n",
    "        return 11"
   ]
  },
  {
   "cell_type": "code",
   "execution_count": 41,
   "metadata": {
    "ExecuteTime": {
     "end_time": "2019-08-03T03:34:07.246387Z",
     "start_time": "2019-08-03T03:30:50.187378Z"
    }
   },
   "outputs": [],
   "source": [
    "train['date_block_3'] = train.transacted_date.apply(date_block_3_month)"
   ]
  },
  {
   "cell_type": "markdown",
   "metadata": {},
   "source": [
    "# 1개월씩"
   ]
  },
  {
   "cell_type": "code",
   "execution_count": 48,
   "metadata": {
    "ExecuteTime": {
     "end_time": "2019-08-03T04:18:31.823565Z",
     "start_time": "2019-08-03T04:18:28.632396Z"
    }
   },
   "outputs": [],
   "source": [
    "import matplotlib.pyplot as plt\n",
    "import seaborn as sns"
   ]
  },
  {
   "cell_type": "code",
   "execution_count": 49,
   "metadata": {
    "ExecuteTime": {
     "end_time": "2019-08-03T04:18:32.262058Z",
     "start_time": "2019-08-03T04:18:31.828280Z"
    }
   },
   "outputs": [
    {
     "data": {
      "text/plain": [
       "[<matplotlib.lines.Line2D at 0x2428dbfb0b8>]"
      ]
     },
     "execution_count": 49,
     "metadata": {},
     "output_type": "execute_result"
    },
    {
     "data": {
      "image/png": "[encoded data removed]",
      "text/plain": [
       "<Figure size 432x288 with 1 Axes>"
      ]
     },
     "metadata": {
      "needs_background": "light"
     },
     "output_type": "display_data"
    }
   ],
   "source": [
    "aa = train.groupby('date_block_1')['amount'].mean()\n",
    "plt.plot(aa)"
   ]
  },
  {
   "cell_type": "markdown",
   "metadata": {},
   "source": [
    "# 3개월씩"
   ]
  },
  {
   "cell_type": "code",
   "execution_count": 44,
   "metadata": {
    "ExecuteTime": {
     "end_time": "2019-08-03T04:16:59.073895Z",
     "start_time": "2019-08-03T04:16:58.937227Z"
    }
   },
   "outputs": [
    {
     "data": {
      "text/plain": [
       "5     697649\n",
       "8     683740\n",
       "6     668291\n",
       "9     658359\n",
       "4     648672\n",
       "10    638124\n",
       "7     600053\n",
       "11    573921\n",
       "3     489429\n",
       "2     470034\n",
       "1     428341\n",
       "Name: date_block_3, dtype: int64"
      ]
     },
     "execution_count": 44,
     "metadata": {},
     "output_type": "execute_result"
    }
   ],
   "source": [
    "train.date_block_3.value_counts()"
   ]
  },
  {
   "cell_type": "code",
   "execution_count": 50,
   "metadata": {
    "ExecuteTime": {
     "end_time": "2019-08-03T04:19:16.841800Z",
     "start_time": "2019-08-03T04:19:16.351098Z"
    }
   },
   "outputs": [
    {
     "data": {
      "text/plain": [
       "[<matplotlib.lines.Line2D at 0x2428dc559e8>]"
      ]
     },
     "execution_count": 50,
     "metadata": {},
     "output_type": "execute_result"
    },
    {
     "data": {
      "image/png": "[encoded data removed]",
      "text/plain": [
       "<Figure size 432x288 with 1 Axes>"
      ]
     },
     "metadata": {
      "needs_background": "light"
     },
     "output_type": "display_data"
    }
   ],
   "source": [
    "aa = train.groupby('date_block_3')['amount'].mean()\n",
    "plt.plot(aa)"
   ]
  },
  {
   "cell_type": "markdown",
   "metadata": {},
   "source": [
    "# time"
   ]
  },
  {
   "cell_type": "code",
   "execution_count": 52,
   "metadata": {
    "ExecuteTime": {
     "end_time": "2019-08-03T04:20:27.906898Z",
     "start_time": "2019-08-03T04:20:27.409210Z"
    }
   },
   "outputs": [
    {
     "data": {
      "text/plain": [
       "[<matplotlib.lines.Line2D at 0x2428dc9f630>]"
      ]
     },
     "execution_count": 52,
     "metadata": {},
     "output_type": "execute_result"
    },
    {
     "data": {
      "image/png": "[encoded data removed]",
      "text/plain": [
       "<Figure size 432x288 with 1 Axes>"
      ]
     },
     "metadata": {
      "needs_background": "light"
     },
     "output_type": "display_data"
    }
   ],
   "source": [
    "aa = train.groupby('hour')['amount'].mean()\n",
    "plt.plot(aa)"
   ]
  },
  {
   "cell_type": "code",
   "execution_count": 53,
   "metadata": {
    "ExecuteTime": {
     "end_time": "2019-08-03T04:22:17.296381Z",
     "start_time": "2019-08-03T04:21:41.366609Z"
    }
   },
   "outputs": [],
   "source": [
    "#train.to_pickle('../train2.pkl')"
   ]
  }
 ],
 "metadata": {
  "hide_input": false,
  "kernelspec": {
   "display_name": "Python 3",
   "language": "python",
   "name": "python3"
  },
  "language_info": {
   "codemirror_mode": {
    "name": "ipython",
    "version": 3
   },
   "file_extension": ".py",
   "mimetype": "text/x-python",
   "name": "python",
   "nbconvert_exporter": "python",
   "pygments_lexer": "ipython3",
   "version": "3.7.1"
  },
  "toc": {
   "base_numbering": 1,
   "nav_menu": {},
   "number_sections": true,
   "sideBar": true,
   "skip_h1_title": false,
   "title_cell": "Table of Contents",
   "title_sidebar": "Contents",
   "toc_cell": false,
   "toc_position": {},
   "toc_section_display": true,
   "toc_window_display": false
  }
 },
 "nbformat": 4,
 "nbformat_minor": 2
}

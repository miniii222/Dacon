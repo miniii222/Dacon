{
 "cells": [
  {
   "cell_type": "code",
   "execution_count": 12,
   "metadata": {
    "ExecuteTime": {
     "end_time": "2019-08-13T08:01:55.648093Z",
     "start_time": "2019-08-13T08:01:55.638119Z"
    }
   },
   "outputs": [
    {
     "data": {
      "text/plain": [
       "['dt.pkl',\n",
       " 'funda_train.csv',\n",
       " 'index_1007.doc',\n",
       " 'submission.csv',\n",
       " 'train2.pkl',\n",
       " '시군구_인구.csv',\n",
       " '시도별_인구밀도.csv']"
      ]
     },
     "execution_count": 12,
     "metadata": {},
     "output_type": "execute_result"
    }
   ],
   "source": [
    "import pandas as pd\n",
    "pd.set_option('display.max_columns', 500)\n",
    "pd.set_option('display.max_rows', 500)\n",
    "import numpy as np\n",
    "\n",
    "import matplotlib.pyplot as plt\n",
    "import seaborn as sns\n",
    "from matplotlib import rc\n",
    "plt.rc('font', family='Malgun Gothic')\n",
    "plt.rc('axes', unicode_minus=False)\n",
    "\n",
    "import os\n",
    "os.listdir('../input')"
   ]
  },
  {
   "cell_type": "code",
   "execution_count": 45,
   "metadata": {
    "ExecuteTime": {
     "end_time": "2019-08-13T08:23:03.515358Z",
     "start_time": "2019-08-13T08:22:48.473290Z"
    }
   },
   "outputs": [
    {
     "name": "stdout",
     "output_type": "stream",
     "text": [
      "dt shape (66133, 10)\n",
      "train shape (6556613, 24)\n"
     ]
    }
   ],
   "source": [
    "path = '../input/'\n",
    "dt = pd.read_pickle(path + 'dt.pkl')\n",
    "train = pd.read_pickle(path + 'train2.pkl')\n",
    "\n",
    "print('dt shape', dt.shape)\n",
    "print('train shape', train.shape)"
   ]
  },
  {
   "cell_type": "code",
   "execution_count": 4,
   "metadata": {
    "ExecuteTime": {
     "end_time": "2019-08-13T07:34:06.248938Z",
     "start_time": "2019-08-13T07:34:06.220015Z"
    }
   },
   "outputs": [
    {
     "data": {
      "text/html": [
       "<div>\n",
       "<style scoped>\n",
       "    .dataframe tbody tr th:only-of-type {\n",
       "        vertical-align: middle;\n",
       "    }\n",
       "\n",
       "    .dataframe tbody tr th {\n",
       "        vertical-align: top;\n",
       "    }\n",
       "\n",
       "    .dataframe thead th {\n",
       "        text-align: right;\n",
       "    }\n",
       "</style>\n",
       "<table border=\"1\" class=\"dataframe\">\n",
       "  <thead>\n",
       "    <tr style=\"text-align: right;\">\n",
       "      <th></th>\n",
       "      <th>store_id</th>\n",
       "      <th>date_block_1</th>\n",
       "      <th>amount</th>\n",
       "      <th>cc_nunique_store</th>\n",
       "      <th>cc_mode_store</th>\n",
       "      <th>cc_nunique_store_date</th>\n",
       "      <th>cc_mode_store_date</th>\n",
       "      <th>month_days</th>\n",
       "      <th>region_label</th>\n",
       "      <th>Seoul</th>\n",
       "    </tr>\n",
       "  </thead>\n",
       "  <tbody>\n",
       "    <tr>\n",
       "      <th>0</th>\n",
       "      <td>0</td>\n",
       "      <td>1</td>\n",
       "      <td>7.470000e+05</td>\n",
       "      <td>7</td>\n",
       "      <td>0.0</td>\n",
       "      <td>7.0</td>\n",
       "      <td>0.0</td>\n",
       "      <td>30.0</td>\n",
       "      <td>-1</td>\n",
       "      <td>0</td>\n",
       "    </tr>\n",
       "    <tr>\n",
       "      <th>1</th>\n",
       "      <td>0</td>\n",
       "      <td>2</td>\n",
       "      <td>1.005000e+06</td>\n",
       "      <td>7</td>\n",
       "      <td>0.0</td>\n",
       "      <td>7.0</td>\n",
       "      <td>0.0</td>\n",
       "      <td>31.0</td>\n",
       "      <td>-1</td>\n",
       "      <td>0</td>\n",
       "    </tr>\n",
       "    <tr>\n",
       "      <th>2</th>\n",
       "      <td>0</td>\n",
       "      <td>3</td>\n",
       "      <td>8.715714e+05</td>\n",
       "      <td>7</td>\n",
       "      <td>0.0</td>\n",
       "      <td>7.0</td>\n",
       "      <td>0.0</td>\n",
       "      <td>31.0</td>\n",
       "      <td>-1</td>\n",
       "      <td>0</td>\n",
       "    </tr>\n",
       "    <tr>\n",
       "      <th>3</th>\n",
       "      <td>0</td>\n",
       "      <td>4</td>\n",
       "      <td>8.978571e+05</td>\n",
       "      <td>7</td>\n",
       "      <td>0.0</td>\n",
       "      <td>7.0</td>\n",
       "      <td>0.0</td>\n",
       "      <td>30.0</td>\n",
       "      <td>-1</td>\n",
       "      <td>0</td>\n",
       "    </tr>\n",
       "    <tr>\n",
       "      <th>4</th>\n",
       "      <td>0</td>\n",
       "      <td>5</td>\n",
       "      <td>8.354286e+05</td>\n",
       "      <td>7</td>\n",
       "      <td>0.0</td>\n",
       "      <td>7.0</td>\n",
       "      <td>0.0</td>\n",
       "      <td>31.0</td>\n",
       "      <td>-1</td>\n",
       "      <td>0</td>\n",
       "    </tr>\n",
       "  </tbody>\n",
       "</table>\n",
       "</div>"
      ],
      "text/plain": [
       "   store_id  date_block_1        amount  cc_nunique_store  cc_mode_store  \\\n",
       "0         0             1  7.470000e+05                 7            0.0   \n",
       "1         0             2  1.005000e+06                 7            0.0   \n",
       "2         0             3  8.715714e+05                 7            0.0   \n",
       "3         0             4  8.978571e+05                 7            0.0   \n",
       "4         0             5  8.354286e+05                 7            0.0   \n",
       "\n",
       "   cc_nunique_store_date  cc_mode_store_date  month_days  region_label  Seoul  \n",
       "0                    7.0                 0.0        30.0            -1      0  \n",
       "1                    7.0                 0.0        31.0            -1      0  \n",
       "2                    7.0                 0.0        31.0            -1      0  \n",
       "3                    7.0                 0.0        30.0            -1      0  \n",
       "4                    7.0                 0.0        31.0            -1      0  "
      ]
     },
     "execution_count": 4,
     "metadata": {},
     "output_type": "execute_result"
    }
   ],
   "source": [
    "dt.head()"
   ]
  },
  {
   "cell_type": "code",
   "execution_count": 5,
   "metadata": {
    "ExecuteTime": {
     "end_time": "2019-08-13T07:34:16.881452Z",
     "start_time": "2019-08-13T07:34:16.851534Z"
    }
   },
   "outputs": [
    {
     "data": {
      "text/html": [
       "<div>\n",
       "<style scoped>\n",
       "    .dataframe tbody tr th:only-of-type {\n",
       "        vertical-align: middle;\n",
       "    }\n",
       "\n",
       "    .dataframe tbody tr th {\n",
       "        vertical-align: top;\n",
       "    }\n",
       "\n",
       "    .dataframe thead th {\n",
       "        text-align: right;\n",
       "    }\n",
       "</style>\n",
       "<table border=\"1\" class=\"dataframe\">\n",
       "  <thead>\n",
       "    <tr style=\"text-align: right;\">\n",
       "      <th></th>\n",
       "      <th>store_id</th>\n",
       "      <th>card_id</th>\n",
       "      <th>card_company</th>\n",
       "      <th>transacted_date</th>\n",
       "      <th>transacted_time</th>\n",
       "      <th>installment_term</th>\n",
       "      <th>region</th>\n",
       "      <th>type_of_business</th>\n",
       "      <th>amount</th>\n",
       "      <th>year</th>\n",
       "      <th>month</th>\n",
       "      <th>day</th>\n",
       "      <th>hour</th>\n",
       "      <th>minute</th>\n",
       "      <th>point_use</th>\n",
       "      <th>installment</th>\n",
       "      <th>business_type1</th>\n",
       "      <th>city1</th>\n",
       "      <th>city2</th>\n",
       "      <th>date_block_1</th>\n",
       "      <th>date_block_3</th>\n",
       "      <th>days</th>\n",
       "      <th>region_label</th>\n",
       "      <th>Seoul</th>\n",
       "    </tr>\n",
       "  </thead>\n",
       "  <tbody>\n",
       "    <tr>\n",
       "      <th>0</th>\n",
       "      <td>0</td>\n",
       "      <td>0</td>\n",
       "      <td>1</td>\n",
       "      <td>2016-06-01</td>\n",
       "      <td>13:13:00</td>\n",
       "      <td>0</td>\n",
       "      <td>NaN</td>\n",
       "      <td>기타 미용업</td>\n",
       "      <td>1857.142857</td>\n",
       "      <td>2016</td>\n",
       "      <td>6</td>\n",
       "      <td>1</td>\n",
       "      <td>13</td>\n",
       "      <td>13</td>\n",
       "      <td>0</td>\n",
       "      <td>0</td>\n",
       "      <td>미용업</td>\n",
       "      <td>NaN</td>\n",
       "      <td>NaN</td>\n",
       "      <td>1</td>\n",
       "      <td>1</td>\n",
       "      <td>30</td>\n",
       "      <td>-1.0</td>\n",
       "      <td>0</td>\n",
       "    </tr>\n",
       "    <tr>\n",
       "      <th>1</th>\n",
       "      <td>0</td>\n",
       "      <td>1</td>\n",
       "      <td>7</td>\n",
       "      <td>2016-06-01</td>\n",
       "      <td>18:12:00</td>\n",
       "      <td>0</td>\n",
       "      <td>NaN</td>\n",
       "      <td>기타 미용업</td>\n",
       "      <td>857.142857</td>\n",
       "      <td>2016</td>\n",
       "      <td>6</td>\n",
       "      <td>1</td>\n",
       "      <td>18</td>\n",
       "      <td>12</td>\n",
       "      <td>0</td>\n",
       "      <td>0</td>\n",
       "      <td>미용업</td>\n",
       "      <td>NaN</td>\n",
       "      <td>NaN</td>\n",
       "      <td>1</td>\n",
       "      <td>1</td>\n",
       "      <td>30</td>\n",
       "      <td>-1.0</td>\n",
       "      <td>0</td>\n",
       "    </tr>\n",
       "    <tr>\n",
       "      <th>2</th>\n",
       "      <td>0</td>\n",
       "      <td>2</td>\n",
       "      <td>2</td>\n",
       "      <td>2016-06-01</td>\n",
       "      <td>18:52:00</td>\n",
       "      <td>0</td>\n",
       "      <td>NaN</td>\n",
       "      <td>기타 미용업</td>\n",
       "      <td>2000.000000</td>\n",
       "      <td>2016</td>\n",
       "      <td>6</td>\n",
       "      <td>1</td>\n",
       "      <td>18</td>\n",
       "      <td>52</td>\n",
       "      <td>0</td>\n",
       "      <td>0</td>\n",
       "      <td>미용업</td>\n",
       "      <td>NaN</td>\n",
       "      <td>NaN</td>\n",
       "      <td>1</td>\n",
       "      <td>1</td>\n",
       "      <td>30</td>\n",
       "      <td>-1.0</td>\n",
       "      <td>0</td>\n",
       "    </tr>\n",
       "    <tr>\n",
       "      <th>3</th>\n",
       "      <td>0</td>\n",
       "      <td>3</td>\n",
       "      <td>0</td>\n",
       "      <td>2016-06-01</td>\n",
       "      <td>20:22:00</td>\n",
       "      <td>0</td>\n",
       "      <td>NaN</td>\n",
       "      <td>기타 미용업</td>\n",
       "      <td>7857.142857</td>\n",
       "      <td>2016</td>\n",
       "      <td>6</td>\n",
       "      <td>1</td>\n",
       "      <td>20</td>\n",
       "      <td>22</td>\n",
       "      <td>0</td>\n",
       "      <td>0</td>\n",
       "      <td>미용업</td>\n",
       "      <td>NaN</td>\n",
       "      <td>NaN</td>\n",
       "      <td>1</td>\n",
       "      <td>1</td>\n",
       "      <td>30</td>\n",
       "      <td>-1.0</td>\n",
       "      <td>0</td>\n",
       "    </tr>\n",
       "    <tr>\n",
       "      <th>4</th>\n",
       "      <td>0</td>\n",
       "      <td>4</td>\n",
       "      <td>2</td>\n",
       "      <td>2016-06-02</td>\n",
       "      <td>11:06:00</td>\n",
       "      <td>0</td>\n",
       "      <td>NaN</td>\n",
       "      <td>기타 미용업</td>\n",
       "      <td>2000.000000</td>\n",
       "      <td>2016</td>\n",
       "      <td>6</td>\n",
       "      <td>2</td>\n",
       "      <td>11</td>\n",
       "      <td>6</td>\n",
       "      <td>0</td>\n",
       "      <td>0</td>\n",
       "      <td>미용업</td>\n",
       "      <td>NaN</td>\n",
       "      <td>NaN</td>\n",
       "      <td>1</td>\n",
       "      <td>1</td>\n",
       "      <td>30</td>\n",
       "      <td>-1.0</td>\n",
       "      <td>0</td>\n",
       "    </tr>\n",
       "  </tbody>\n",
       "</table>\n",
       "</div>"
      ],
      "text/plain": [
       "   store_id  card_id  card_company transacted_date transacted_time  \\\n",
       "0         0        0             1      2016-06-01        13:13:00   \n",
       "1         0        1             7      2016-06-01        18:12:00   \n",
       "2         0        2             2      2016-06-01        18:52:00   \n",
       "3         0        3             0      2016-06-01        20:22:00   \n",
       "4         0        4             2      2016-06-02        11:06:00   \n",
       "\n",
       "   installment_term region type_of_business       amount  year  month  day  \\\n",
       "0                 0    NaN           기타 미용업  1857.142857  2016      6    1   \n",
       "1                 0    NaN           기타 미용업   857.142857  2016      6    1   \n",
       "2                 0    NaN           기타 미용업  2000.000000  2016      6    1   \n",
       "3                 0    NaN           기타 미용업  7857.142857  2016      6    1   \n",
       "4                 0    NaN           기타 미용업  2000.000000  2016      6    2   \n",
       "\n",
       "   hour  minute  point_use  installment business_type1 city1 city2  \\\n",
       "0    13      13          0            0            미용업   NaN   NaN   \n",
       "1    18      12          0            0            미용업   NaN   NaN   \n",
       "2    18      52          0            0            미용업   NaN   NaN   \n",
       "3    20      22          0            0            미용업   NaN   NaN   \n",
       "4    11       6          0            0            미용업   NaN   NaN   \n",
       "\n",
       "   date_block_1  date_block_3  days  region_label  Seoul  \n",
       "0             1             1    30          -1.0      0  \n",
       "1             1             1    30          -1.0      0  \n",
       "2             1             1    30          -1.0      0  \n",
       "3             1             1    30          -1.0      0  \n",
       "4             1             1    30          -1.0      0  "
      ]
     },
     "execution_count": 5,
     "metadata": {},
     "output_type": "execute_result"
    }
   ],
   "source": [
    "train.head()"
   ]
  },
  {
   "cell_type": "markdown",
   "metadata": {},
   "source": [
    "# city"
   ]
  },
  {
   "cell_type": "code",
   "execution_count": 9,
   "metadata": {
    "ExecuteTime": {
     "end_time": "2019-08-13T07:37:14.848385Z",
     "start_time": "2019-08-13T07:37:14.843381Z"
    }
   },
   "outputs": [],
   "source": [
    "from sklearn.preprocessing import LabelEncoder"
   ]
  },
  {
   "cell_type": "code",
   "execution_count": 6,
   "metadata": {
    "ExecuteTime": {
     "end_time": "2019-08-13T07:35:02.688231Z",
     "start_time": "2019-08-13T07:35:01.604130Z"
    }
   },
   "outputs": [
    {
     "data": {
      "text/plain": [
       "경기    968836\n",
       "서울    704437\n",
       "경남    406190\n",
       "부산    359042\n",
       "경북    262338\n",
       "충북    239796\n",
       "충남    217040\n",
       "대구    208424\n",
       "인천    192439\n",
       "강원    169791\n",
       "전북    143514\n",
       "대전    142478\n",
       "울산    124640\n",
       "전남    121978\n",
       "광주    118015\n",
       "제주    114671\n",
       "세종     20218\n",
       "Name: city1, dtype: int64"
      ]
     },
     "execution_count": 6,
     "metadata": {},
     "output_type": "execute_result"
    }
   ],
   "source": [
    "train.city1.value_counts()"
   ]
  },
  {
   "cell_type": "code",
   "execution_count": 46,
   "metadata": {
    "ExecuteTime": {
     "end_time": "2019-08-13T08:23:09.924943Z",
     "start_time": "2019-08-13T08:23:06.649651Z"
    }
   },
   "outputs": [
    {
     "data": {
      "text/plain": [
       "18"
      ]
     },
     "execution_count": 46,
     "metadata": {},
     "output_type": "execute_result"
    }
   ],
   "source": [
    "train['city1_label'] = np.nan\n",
    "train.loc[train.city1.isnull(), 'city1_label'] = -1\n",
    "\n",
    "le = LabelEncoder()\n",
    "train.loc[~train.city1.isnull(), 'city1_label'] = le.fit_transform(train.loc[~train.city1.isnull(), 'city1'])\n",
    "len(train.city1_label.unique())"
   ]
  },
  {
   "cell_type": "markdown",
   "metadata": {},
   "source": [
    "## new_data"
   ]
  },
  {
   "cell_type": "code",
   "execution_count": 14,
   "metadata": {
    "ExecuteTime": {
     "end_time": "2019-08-13T08:02:41.498744Z",
     "start_time": "2019-08-13T08:02:41.490832Z"
    }
   },
   "outputs": [
    {
     "data": {
      "text/plain": [
       "['dt.pkl',\n",
       " 'funda_train.csv',\n",
       " 'index_1007.doc',\n",
       " 'submission.csv',\n",
       " 'train2.pkl',\n",
       " '시군구_인구.csv',\n",
       " '시도별_인구밀도.csv']"
      ]
     },
     "execution_count": 14,
     "metadata": {},
     "output_type": "execute_result"
    }
   ],
   "source": [
    "os.listdir(path)"
   ]
  },
  {
   "cell_type": "code",
   "execution_count": 43,
   "metadata": {
    "ExecuteTime": {
     "end_time": "2019-08-13T08:22:35.191480Z",
     "start_time": "2019-08-13T08:22:35.177574Z"
    }
   },
   "outputs": [],
   "source": [
    "people = pd.read_csv(path + '시군구_인구.csv')\n",
    "people_density = pd.read_csv(path + '시도별_인구밀도.csv')"
   ]
  },
  {
   "cell_type": "code",
   "execution_count": 44,
   "metadata": {
    "ExecuteTime": {
     "end_time": "2019-08-13T08:22:35.691217Z",
     "start_time": "2019-08-13T08:22:35.681240Z"
    }
   },
   "outputs": [],
   "source": [
    "people_density.인구 = people_density.인구.apply(int)\n",
    "people_density.인구밀도 = people_density.인구밀도.apply(int)\n",
    "people.인구 = people.인구.apply(int)"
   ]
  },
  {
   "cell_type": "code",
   "execution_count": 47,
   "metadata": {
    "ExecuteTime": {
     "end_time": "2019-08-13T08:23:36.809278Z",
     "start_time": "2019-08-13T08:23:13.882135Z"
    }
   },
   "outputs": [
    {
     "data": {
      "text/html": [
       "<div>\n",
       "<style scoped>\n",
       "    .dataframe tbody tr th:only-of-type {\n",
       "        vertical-align: middle;\n",
       "    }\n",
       "\n",
       "    .dataframe tbody tr th {\n",
       "        vertical-align: top;\n",
       "    }\n",
       "\n",
       "    .dataframe thead th {\n",
       "        text-align: right;\n",
       "    }\n",
       "</style>\n",
       "<table border=\"1\" class=\"dataframe\">\n",
       "  <thead>\n",
       "    <tr style=\"text-align: right;\">\n",
       "      <th></th>\n",
       "      <th>store_id</th>\n",
       "      <th>card_id</th>\n",
       "      <th>card_company</th>\n",
       "      <th>transacted_date</th>\n",
       "      <th>transacted_time</th>\n",
       "      <th>installment_term</th>\n",
       "      <th>region</th>\n",
       "      <th>type_of_business</th>\n",
       "      <th>amount</th>\n",
       "      <th>year</th>\n",
       "      <th>month</th>\n",
       "      <th>day</th>\n",
       "      <th>hour</th>\n",
       "      <th>minute</th>\n",
       "      <th>point_use</th>\n",
       "      <th>installment</th>\n",
       "      <th>business_type1</th>\n",
       "      <th>city1</th>\n",
       "      <th>city2</th>\n",
       "      <th>date_block_1</th>\n",
       "      <th>date_block_3</th>\n",
       "      <th>days</th>\n",
       "      <th>region_label</th>\n",
       "      <th>Seoul</th>\n",
       "      <th>city1_label</th>\n",
       "      <th>people</th>\n",
       "    </tr>\n",
       "  </thead>\n",
       "  <tbody>\n",
       "    <tr>\n",
       "      <th>0</th>\n",
       "      <td>0</td>\n",
       "      <td>0</td>\n",
       "      <td>1</td>\n",
       "      <td>2016-06-01</td>\n",
       "      <td>13:13:00</td>\n",
       "      <td>0</td>\n",
       "      <td>NaN</td>\n",
       "      <td>기타 미용업</td>\n",
       "      <td>1857.142857</td>\n",
       "      <td>2016</td>\n",
       "      <td>6</td>\n",
       "      <td>1</td>\n",
       "      <td>13</td>\n",
       "      <td>13</td>\n",
       "      <td>0</td>\n",
       "      <td>0</td>\n",
       "      <td>미용업</td>\n",
       "      <td>NaN</td>\n",
       "      <td>NaN</td>\n",
       "      <td>1</td>\n",
       "      <td>1</td>\n",
       "      <td>30</td>\n",
       "      <td>-1.0</td>\n",
       "      <td>0</td>\n",
       "      <td>-1.0</td>\n",
       "      <td>NaN</td>\n",
       "    </tr>\n",
       "    <tr>\n",
       "      <th>1</th>\n",
       "      <td>0</td>\n",
       "      <td>1</td>\n",
       "      <td>7</td>\n",
       "      <td>2016-06-01</td>\n",
       "      <td>18:12:00</td>\n",
       "      <td>0</td>\n",
       "      <td>NaN</td>\n",
       "      <td>기타 미용업</td>\n",
       "      <td>857.142857</td>\n",
       "      <td>2016</td>\n",
       "      <td>6</td>\n",
       "      <td>1</td>\n",
       "      <td>18</td>\n",
       "      <td>12</td>\n",
       "      <td>0</td>\n",
       "      <td>0</td>\n",
       "      <td>미용업</td>\n",
       "      <td>NaN</td>\n",
       "      <td>NaN</td>\n",
       "      <td>1</td>\n",
       "      <td>1</td>\n",
       "      <td>30</td>\n",
       "      <td>-1.0</td>\n",
       "      <td>0</td>\n",
       "      <td>-1.0</td>\n",
       "      <td>NaN</td>\n",
       "    </tr>\n",
       "    <tr>\n",
       "      <th>2</th>\n",
       "      <td>0</td>\n",
       "      <td>2</td>\n",
       "      <td>2</td>\n",
       "      <td>2016-06-01</td>\n",
       "      <td>18:52:00</td>\n",
       "      <td>0</td>\n",
       "      <td>NaN</td>\n",
       "      <td>기타 미용업</td>\n",
       "      <td>2000.000000</td>\n",
       "      <td>2016</td>\n",
       "      <td>6</td>\n",
       "      <td>1</td>\n",
       "      <td>18</td>\n",
       "      <td>52</td>\n",
       "      <td>0</td>\n",
       "      <td>0</td>\n",
       "      <td>미용업</td>\n",
       "      <td>NaN</td>\n",
       "      <td>NaN</td>\n",
       "      <td>1</td>\n",
       "      <td>1</td>\n",
       "      <td>30</td>\n",
       "      <td>-1.0</td>\n",
       "      <td>0</td>\n",
       "      <td>-1.0</td>\n",
       "      <td>NaN</td>\n",
       "    </tr>\n",
       "    <tr>\n",
       "      <th>3</th>\n",
       "      <td>0</td>\n",
       "      <td>3</td>\n",
       "      <td>0</td>\n",
       "      <td>2016-06-01</td>\n",
       "      <td>20:22:00</td>\n",
       "      <td>0</td>\n",
       "      <td>NaN</td>\n",
       "      <td>기타 미용업</td>\n",
       "      <td>7857.142857</td>\n",
       "      <td>2016</td>\n",
       "      <td>6</td>\n",
       "      <td>1</td>\n",
       "      <td>20</td>\n",
       "      <td>22</td>\n",
       "      <td>0</td>\n",
       "      <td>0</td>\n",
       "      <td>미용업</td>\n",
       "      <td>NaN</td>\n",
       "      <td>NaN</td>\n",
       "      <td>1</td>\n",
       "      <td>1</td>\n",
       "      <td>30</td>\n",
       "      <td>-1.0</td>\n",
       "      <td>0</td>\n",
       "      <td>-1.0</td>\n",
       "      <td>NaN</td>\n",
       "    </tr>\n",
       "    <tr>\n",
       "      <th>4</th>\n",
       "      <td>0</td>\n",
       "      <td>4</td>\n",
       "      <td>2</td>\n",
       "      <td>2016-06-02</td>\n",
       "      <td>11:06:00</td>\n",
       "      <td>0</td>\n",
       "      <td>NaN</td>\n",
       "      <td>기타 미용업</td>\n",
       "      <td>2000.000000</td>\n",
       "      <td>2016</td>\n",
       "      <td>6</td>\n",
       "      <td>2</td>\n",
       "      <td>11</td>\n",
       "      <td>6</td>\n",
       "      <td>0</td>\n",
       "      <td>0</td>\n",
       "      <td>미용업</td>\n",
       "      <td>NaN</td>\n",
       "      <td>NaN</td>\n",
       "      <td>1</td>\n",
       "      <td>1</td>\n",
       "      <td>30</td>\n",
       "      <td>-1.0</td>\n",
       "      <td>0</td>\n",
       "      <td>-1.0</td>\n",
       "      <td>NaN</td>\n",
       "    </tr>\n",
       "  </tbody>\n",
       "</table>\n",
       "</div>"
      ],
      "text/plain": [
       "   store_id  card_id  card_company transacted_date transacted_time  \\\n",
       "0         0        0             1      2016-06-01        13:13:00   \n",
       "1         0        1             7      2016-06-01        18:12:00   \n",
       "2         0        2             2      2016-06-01        18:52:00   \n",
       "3         0        3             0      2016-06-01        20:22:00   \n",
       "4         0        4             2      2016-06-02        11:06:00   \n",
       "\n",
       "   installment_term region type_of_business       amount  year  month  day  \\\n",
       "0                 0    NaN           기타 미용업  1857.142857  2016      6    1   \n",
       "1                 0    NaN           기타 미용업   857.142857  2016      6    1   \n",
       "2                 0    NaN           기타 미용업  2000.000000  2016      6    1   \n",
       "3                 0    NaN           기타 미용업  7857.142857  2016      6    1   \n",
       "4                 0    NaN           기타 미용업  2000.000000  2016      6    2   \n",
       "\n",
       "   hour  minute  point_use  installment business_type1 city1 city2  \\\n",
       "0    13      13          0            0            미용업   NaN   NaN   \n",
       "1    18      12          0            0            미용업   NaN   NaN   \n",
       "2    18      52          0            0            미용업   NaN   NaN   \n",
       "3    20      22          0            0            미용업   NaN   NaN   \n",
       "4    11       6          0            0            미용업   NaN   NaN   \n",
       "\n",
       "   date_block_1  date_block_3  days  region_label  Seoul  city1_label  people  \n",
       "0             1             1    30          -1.0      0         -1.0     NaN  \n",
       "1             1             1    30          -1.0      0         -1.0     NaN  \n",
       "2             1             1    30          -1.0      0         -1.0     NaN  \n",
       "3             1             1    30          -1.0      0         -1.0     NaN  \n",
       "4             1             1    30          -1.0      0         -1.0     NaN  "
      ]
     },
     "execution_count": 47,
     "metadata": {},
     "output_type": "execute_result"
    }
   ],
   "source": [
    "train = pd.merge(train, people, how = 'left', left_on= 'city2', right_on='행정구역')\n",
    "train.drop('행정구역', axis = 1, inplace = True)\n",
    "train.rename(columns = {'인구' : 'people'}, inplace = True)\n",
    "train.head()"
   ]
  },
  {
   "cell_type": "code",
   "execution_count": 48,
   "metadata": {
    "ExecuteTime": {
     "end_time": "2019-08-13T08:24:00.741554Z",
     "start_time": "2019-08-13T08:23:36.814265Z"
    }
   },
   "outputs": [
    {
     "data": {
      "text/html": [
       "<div>\n",
       "<style scoped>\n",
       "    .dataframe tbody tr th:only-of-type {\n",
       "        vertical-align: middle;\n",
       "    }\n",
       "\n",
       "    .dataframe tbody tr th {\n",
       "        vertical-align: top;\n",
       "    }\n",
       "\n",
       "    .dataframe thead th {\n",
       "        text-align: right;\n",
       "    }\n",
       "</style>\n",
       "<table border=\"1\" class=\"dataframe\">\n",
       "  <thead>\n",
       "    <tr style=\"text-align: right;\">\n",
       "      <th></th>\n",
       "      <th>store_id</th>\n",
       "      <th>card_id</th>\n",
       "      <th>card_company</th>\n",
       "      <th>transacted_date</th>\n",
       "      <th>transacted_time</th>\n",
       "      <th>installment_term</th>\n",
       "      <th>region</th>\n",
       "      <th>type_of_business</th>\n",
       "      <th>amount</th>\n",
       "      <th>year</th>\n",
       "      <th>month</th>\n",
       "      <th>day</th>\n",
       "      <th>hour</th>\n",
       "      <th>minute</th>\n",
       "      <th>point_use</th>\n",
       "      <th>installment</th>\n",
       "      <th>business_type1</th>\n",
       "      <th>city1</th>\n",
       "      <th>city2</th>\n",
       "      <th>date_block_1</th>\n",
       "      <th>date_block_3</th>\n",
       "      <th>days</th>\n",
       "      <th>region_label</th>\n",
       "      <th>Seoul</th>\n",
       "      <th>city1_label</th>\n",
       "      <th>people</th>\n",
       "      <th>people_city1</th>\n",
       "      <th>people_density_city1</th>\n",
       "    </tr>\n",
       "  </thead>\n",
       "  <tbody>\n",
       "    <tr>\n",
       "      <th>0</th>\n",
       "      <td>0</td>\n",
       "      <td>0</td>\n",
       "      <td>1</td>\n",
       "      <td>2016-06-01</td>\n",
       "      <td>13:13:00</td>\n",
       "      <td>0</td>\n",
       "      <td>NaN</td>\n",
       "      <td>기타 미용업</td>\n",
       "      <td>1857.142857</td>\n",
       "      <td>2016</td>\n",
       "      <td>6</td>\n",
       "      <td>1</td>\n",
       "      <td>13</td>\n",
       "      <td>13</td>\n",
       "      <td>0</td>\n",
       "      <td>0</td>\n",
       "      <td>미용업</td>\n",
       "      <td>NaN</td>\n",
       "      <td>NaN</td>\n",
       "      <td>1</td>\n",
       "      <td>1</td>\n",
       "      <td>30</td>\n",
       "      <td>-1.0</td>\n",
       "      <td>0</td>\n",
       "      <td>-1.0</td>\n",
       "      <td>NaN</td>\n",
       "      <td>NaN</td>\n",
       "      <td>NaN</td>\n",
       "    </tr>\n",
       "    <tr>\n",
       "      <th>1</th>\n",
       "      <td>0</td>\n",
       "      <td>1</td>\n",
       "      <td>7</td>\n",
       "      <td>2016-06-01</td>\n",
       "      <td>18:12:00</td>\n",
       "      <td>0</td>\n",
       "      <td>NaN</td>\n",
       "      <td>기타 미용업</td>\n",
       "      <td>857.142857</td>\n",
       "      <td>2016</td>\n",
       "      <td>6</td>\n",
       "      <td>1</td>\n",
       "      <td>18</td>\n",
       "      <td>12</td>\n",
       "      <td>0</td>\n",
       "      <td>0</td>\n",
       "      <td>미용업</td>\n",
       "      <td>NaN</td>\n",
       "      <td>NaN</td>\n",
       "      <td>1</td>\n",
       "      <td>1</td>\n",
       "      <td>30</td>\n",
       "      <td>-1.0</td>\n",
       "      <td>0</td>\n",
       "      <td>-1.0</td>\n",
       "      <td>NaN</td>\n",
       "      <td>NaN</td>\n",
       "      <td>NaN</td>\n",
       "    </tr>\n",
       "    <tr>\n",
       "      <th>2</th>\n",
       "      <td>0</td>\n",
       "      <td>2</td>\n",
       "      <td>2</td>\n",
       "      <td>2016-06-01</td>\n",
       "      <td>18:52:00</td>\n",
       "      <td>0</td>\n",
       "      <td>NaN</td>\n",
       "      <td>기타 미용업</td>\n",
       "      <td>2000.000000</td>\n",
       "      <td>2016</td>\n",
       "      <td>6</td>\n",
       "      <td>1</td>\n",
       "      <td>18</td>\n",
       "      <td>52</td>\n",
       "      <td>0</td>\n",
       "      <td>0</td>\n",
       "      <td>미용업</td>\n",
       "      <td>NaN</td>\n",
       "      <td>NaN</td>\n",
       "      <td>1</td>\n",
       "      <td>1</td>\n",
       "      <td>30</td>\n",
       "      <td>-1.0</td>\n",
       "      <td>0</td>\n",
       "      <td>-1.0</td>\n",
       "      <td>NaN</td>\n",
       "      <td>NaN</td>\n",
       "      <td>NaN</td>\n",
       "    </tr>\n",
       "    <tr>\n",
       "      <th>3</th>\n",
       "      <td>0</td>\n",
       "      <td>3</td>\n",
       "      <td>0</td>\n",
       "      <td>2016-06-01</td>\n",
       "      <td>20:22:00</td>\n",
       "      <td>0</td>\n",
       "      <td>NaN</td>\n",
       "      <td>기타 미용업</td>\n",
       "      <td>7857.142857</td>\n",
       "      <td>2016</td>\n",
       "      <td>6</td>\n",
       "      <td>1</td>\n",
       "      <td>20</td>\n",
       "      <td>22</td>\n",
       "      <td>0</td>\n",
       "      <td>0</td>\n",
       "      <td>미용업</td>\n",
       "      <td>NaN</td>\n",
       "      <td>NaN</td>\n",
       "      <td>1</td>\n",
       "      <td>1</td>\n",
       "      <td>30</td>\n",
       "      <td>-1.0</td>\n",
       "      <td>0</td>\n",
       "      <td>-1.0</td>\n",
       "      <td>NaN</td>\n",
       "      <td>NaN</td>\n",
       "      <td>NaN</td>\n",
       "    </tr>\n",
       "    <tr>\n",
       "      <th>4</th>\n",
       "      <td>0</td>\n",
       "      <td>4</td>\n",
       "      <td>2</td>\n",
       "      <td>2016-06-02</td>\n",
       "      <td>11:06:00</td>\n",
       "      <td>0</td>\n",
       "      <td>NaN</td>\n",
       "      <td>기타 미용업</td>\n",
       "      <td>2000.000000</td>\n",
       "      <td>2016</td>\n",
       "      <td>6</td>\n",
       "      <td>2</td>\n",
       "      <td>11</td>\n",
       "      <td>6</td>\n",
       "      <td>0</td>\n",
       "      <td>0</td>\n",
       "      <td>미용업</td>\n",
       "      <td>NaN</td>\n",
       "      <td>NaN</td>\n",
       "      <td>1</td>\n",
       "      <td>1</td>\n",
       "      <td>30</td>\n",
       "      <td>-1.0</td>\n",
       "      <td>0</td>\n",
       "      <td>-1.0</td>\n",
       "      <td>NaN</td>\n",
       "      <td>NaN</td>\n",
       "      <td>NaN</td>\n",
       "    </tr>\n",
       "  </tbody>\n",
       "</table>\n",
       "</div>"
      ],
      "text/plain": [
       "   store_id  card_id  card_company transacted_date transacted_time  \\\n",
       "0         0        0             1      2016-06-01        13:13:00   \n",
       "1         0        1             7      2016-06-01        18:12:00   \n",
       "2         0        2             2      2016-06-01        18:52:00   \n",
       "3         0        3             0      2016-06-01        20:22:00   \n",
       "4         0        4             2      2016-06-02        11:06:00   \n",
       "\n",
       "   installment_term region type_of_business       amount  year  month  day  \\\n",
       "0                 0    NaN           기타 미용업  1857.142857  2016      6    1   \n",
       "1                 0    NaN           기타 미용업   857.142857  2016      6    1   \n",
       "2                 0    NaN           기타 미용업  2000.000000  2016      6    1   \n",
       "3                 0    NaN           기타 미용업  7857.142857  2016      6    1   \n",
       "4                 0    NaN           기타 미용업  2000.000000  2016      6    2   \n",
       "\n",
       "   hour  minute  point_use  installment business_type1 city1 city2  \\\n",
       "0    13      13          0            0            미용업   NaN   NaN   \n",
       "1    18      12          0            0            미용업   NaN   NaN   \n",
       "2    18      52          0            0            미용업   NaN   NaN   \n",
       "3    20      22          0            0            미용업   NaN   NaN   \n",
       "4    11       6          0            0            미용업   NaN   NaN   \n",
       "\n",
       "   date_block_1  date_block_3  days  region_label  Seoul  city1_label  people  \\\n",
       "0             1             1    30          -1.0      0         -1.0     NaN   \n",
       "1             1             1    30          -1.0      0         -1.0     NaN   \n",
       "2             1             1    30          -1.0      0         -1.0     NaN   \n",
       "3             1             1    30          -1.0      0         -1.0     NaN   \n",
       "4             1             1    30          -1.0      0         -1.0     NaN   \n",
       "\n",
       "   people_city1  people_density_city1  \n",
       "0           NaN                   NaN  \n",
       "1           NaN                   NaN  \n",
       "2           NaN                   NaN  \n",
       "3           NaN                   NaN  \n",
       "4           NaN                   NaN  "
      ]
     },
     "execution_count": 48,
     "metadata": {},
     "output_type": "execute_result"
    }
   ],
   "source": [
    "train = pd.merge(train, people_density, how = 'left', left_on= 'city1', right_on='지역')\n",
    "train.drop('지역', axis = 1, inplace = True)\n",
    "train.rename(columns = {'인구' : 'people_city1', '인구밀도' : 'people_density_city1'}, inplace = True)\n",
    "train.head()"
   ]
  },
  {
   "cell_type": "code",
   "execution_count": 53,
   "metadata": {
    "ExecuteTime": {
     "end_time": "2019-08-13T08:25:09.371653Z",
     "start_time": "2019-08-13T08:25:08.788150Z"
    },
    "scrolled": true
   },
   "outputs": [],
   "source": [
    "aa = train.groupby('store_id')['people','people_city1', 'people_density_city1'].mean().reset_index()\n",
    "dt = pd.merge(dt, aa, how = 'left')"
   ]
  },
  {
   "cell_type": "code",
   "execution_count": 54,
   "metadata": {
    "ExecuteTime": {
     "end_time": "2019-08-13T08:25:58.610455Z",
     "start_time": "2019-08-13T08:25:17.266129Z"
    }
   },
   "outputs": [],
   "source": [
    "#dt.to_pickle(path + 'dt.pkl')\n",
    "#train.to_pickle(path + 'train2.pkl')"
   ]
  },
  {
   "cell_type": "markdown",
   "metadata": {},
   "source": [
    "# train test split"
   ]
  },
  {
   "cell_type": "code",
   "execution_count": 55,
   "metadata": {
    "ExecuteTime": {
     "end_time": "2019-08-13T08:25:58.677393Z",
     "start_time": "2019-08-13T08:25:58.614508Z"
    }
   },
   "outputs": [
    {
     "name": "stdout",
     "output_type": "stream",
     "text": [
      "train data shape :  (54446, 12) (54446,)\n",
      "valid data shape :  (5786, 12) (5786,)\n",
      "test data shape :  (5901, 12)\n"
     ]
    }
   ],
   "source": [
    "X_train = dt[dt.date_block_1 <= 30].drop('amount', axis = 1)\n",
    "y_train = dt.loc[dt.date_block_1 <= 30, 'amount']\n",
    "\n",
    "X_valid = dt[(dt.date_block_1 > 30) & (dt.date_block_1 <= 33)].drop('amount', axis = 1)\n",
    "y_valid = dt.loc[(dt.date_block_1 > 30) & (dt.date_block_1 <= 33), 'amount']\n",
    "\n",
    "X_test = dt[dt.date_block_1 > 33].drop('amount', axis = 1)\n",
    "\n",
    "print('train data shape : ', X_train.shape, y_train.shape)\n",
    "print('valid data shape : ', X_valid.shape, y_valid.shape)\n",
    "print('test data shape : ', X_test.shape)"
   ]
  },
  {
   "cell_type": "code",
   "execution_count": 56,
   "metadata": {
    "ExecuteTime": {
     "end_time": "2019-08-13T08:25:59.618674Z",
     "start_time": "2019-08-13T08:25:58.680385Z"
    }
   },
   "outputs": [
    {
     "data": {
      "text/plain": [
       "326"
      ]
     },
     "execution_count": 56,
     "metadata": {},
     "output_type": "execute_result"
    }
   ],
   "source": [
    "import gc\n",
    "gc.collect()"
   ]
  },
  {
   "cell_type": "code",
   "execution_count": 60,
   "metadata": {
    "ExecuteTime": {
     "end_time": "2019-08-13T08:27:19.990926Z",
     "start_time": "2019-08-13T08:27:19.986769Z"
    }
   },
   "outputs": [],
   "source": [
    "from lightgbm import LGBMRegressor\n",
    "lgb = LGBMRegressor(njobs = -1, n_estimators=1000)"
   ]
  },
  {
   "cell_type": "code",
   "execution_count": 61,
   "metadata": {
    "ExecuteTime": {
     "end_time": "2019-08-13T08:27:23.013823Z",
     "start_time": "2019-08-13T08:27:20.632408Z"
    }
   },
   "outputs": [
    {
     "name": "stdout",
     "output_type": "stream",
     "text": [
      "Training until validation scores don't improve for 20 rounds.\n",
      "[20]\ttraining's l1: 743101\ttraining's l2: 1.8951e+12\tvalid_1's l1: 750606\tvalid_1's l2: 2.00177e+12\n",
      "[40]\ttraining's l1: 688958\ttraining's l2: 1.68172e+12\tvalid_1's l1: 700774\tvalid_1's l2: 1.841e+12\n",
      "[60]\ttraining's l1: 652879\ttraining's l2: 1.56036e+12\tvalid_1's l1: 670092\tvalid_1's l2: 1.75567e+12\n",
      "[80]\ttraining's l1: 630401\ttraining's l2: 1.4865e+12\tvalid_1's l1: 652814\tvalid_1's l2: 1.71448e+12\n",
      "[100]\ttraining's l1: 612581\ttraining's l2: 1.43493e+12\tvalid_1's l1: 640181\tvalid_1's l2: 1.68002e+12\n",
      "[120]\ttraining's l1: 592692\ttraining's l2: 1.38346e+12\tvalid_1's l1: 623888\tvalid_1's l2: 1.64265e+12\n",
      "[140]\ttraining's l1: 577565\ttraining's l2: 1.34128e+12\tvalid_1's l1: 610473\tvalid_1's l2: 1.61286e+12\n",
      "[160]\ttraining's l1: 564838\ttraining's l2: 1.30894e+12\tvalid_1's l1: 600502\tvalid_1's l2: 1.58868e+12\n",
      "[180]\ttraining's l1: 552405\ttraining's l2: 1.27875e+12\tvalid_1's l1: 590566\tvalid_1's l2: 1.56529e+12\n",
      "[200]\ttraining's l1: 544937\ttraining's l2: 1.26143e+12\tvalid_1's l1: 586366\tvalid_1's l2: 1.55515e+12\n",
      "[220]\ttraining's l1: 537078\ttraining's l2: 1.24069e+12\tvalid_1's l1: 582062\tvalid_1's l2: 1.54744e+12\n",
      "[240]\ttraining's l1: 525945\ttraining's l2: 1.2141e+12\tvalid_1's l1: 572963\tvalid_1's l2: 1.53236e+12\n",
      "[260]\ttraining's l1: 518603\ttraining's l2: 1.19583e+12\tvalid_1's l1: 569308\tvalid_1's l2: 1.52726e+12\n",
      "[280]\ttraining's l1: 510653\ttraining's l2: 1.17788e+12\tvalid_1's l1: 561762\tvalid_1's l2: 1.51496e+12\n",
      "[300]\ttraining's l1: 504089\ttraining's l2: 1.16152e+12\tvalid_1's l1: 557480\tvalid_1's l2: 1.50844e+12\n",
      "[320]\ttraining's l1: 497702\ttraining's l2: 1.14915e+12\tvalid_1's l1: 553955\tvalid_1's l2: 1.50204e+12\n",
      "[340]\ttraining's l1: 491286\ttraining's l2: 1.1364e+12\tvalid_1's l1: 549518\tvalid_1's l2: 1.49361e+12\n",
      "[360]\ttraining's l1: 485931\ttraining's l2: 1.12487e+12\tvalid_1's l1: 545546\tvalid_1's l2: 1.48722e+12\n",
      "[380]\ttraining's l1: 481429\ttraining's l2: 1.11542e+12\tvalid_1's l1: 542287\tvalid_1's l2: 1.48203e+12\n",
      "[400]\ttraining's l1: 476743\ttraining's l2: 1.10617e+12\tvalid_1's l1: 539586\tvalid_1's l2: 1.47715e+12\n",
      "[420]\ttraining's l1: 472239\ttraining's l2: 1.09714e+12\tvalid_1's l1: 537712\tvalid_1's l2: 1.47317e+12\n",
      "[440]\ttraining's l1: 468524\ttraining's l2: 1.09038e+12\tvalid_1's l1: 535066\tvalid_1's l2: 1.4696e+12\n",
      "[460]\ttraining's l1: 464847\ttraining's l2: 1.08291e+12\tvalid_1's l1: 532487\tvalid_1's l2: 1.46323e+12\n",
      "[480]\ttraining's l1: 461618\ttraining's l2: 1.07708e+12\tvalid_1's l1: 531136\tvalid_1's l2: 1.46018e+12\n",
      "[500]\ttraining's l1: 457403\ttraining's l2: 1.06919e+12\tvalid_1's l1: 528396\tvalid_1's l2: 1.45643e+12\n",
      "[520]\ttraining's l1: 454054\ttraining's l2: 1.06393e+12\tvalid_1's l1: 526450\tvalid_1's l2: 1.45364e+12\n",
      "[540]\ttraining's l1: 451014\ttraining's l2: 1.05862e+12\tvalid_1's l1: 525778\tvalid_1's l2: 1.45197e+12\n",
      "[560]\ttraining's l1: 448401\ttraining's l2: 1.05255e+12\tvalid_1's l1: 525233\tvalid_1's l2: 1.45283e+12\n",
      "Early stopping, best iteration is:\n",
      "[540]\ttraining's l1: 451014\ttraining's l2: 1.05862e+12\tvalid_1's l1: 525778\tvalid_1's l2: 1.45197e+12\n"
     ]
    },
    {
     "data": {
      "text/plain": [
       "LGBMRegressor(boosting_type='gbdt', class_weight=None, colsample_bytree=1.0,\n",
       "       importance_type='split', learning_rate=0.1, max_depth=-1,\n",
       "       min_child_samples=20, min_child_weight=0.001, min_split_gain=0.0,\n",
       "       n_estimators=1000, n_jobs=-1, njobs=-1, num_leaves=31,\n",
       "       objective=None, random_state=None, reg_alpha=0.0, reg_lambda=0.0,\n",
       "       silent=True, subsample=1.0, subsample_for_bin=200000,\n",
       "       subsample_freq=0)"
      ]
     },
     "execution_count": 61,
     "metadata": {},
     "output_type": "execute_result"
    }
   ],
   "source": [
    "lgb.fit(X_train, y_train, eval_metric='mae', eval_set=[(X_train, y_train), (X_valid, y_valid)],\n",
    "       verbose = 20, early_stopping_rounds=20)"
   ]
  },
  {
   "cell_type": "code",
   "execution_count": 62,
   "metadata": {
    "ExecuteTime": {
     "end_time": "2019-08-13T08:27:26.086407Z",
     "start_time": "2019-08-13T08:27:25.569314Z"
    }
   },
   "outputs": [
    {
     "data": {
      "image/png": "[encoded data removed]",
      "text/plain": [
       "<Figure size 1440x720 with 1 Axes>"
      ]
     },
     "metadata": {
      "needs_background": "light"
     },
     "output_type": "display_data"
    }
   ],
   "source": [
    "feature_imp = pd.DataFrame(sorted(zip(lgb.feature_importances_, X_train.columns)), columns=['Value','Feature'])\n",
    "\n",
    "plt.figure(figsize=(20, 10))\n",
    "sns.barplot(x=\"Value\", y=\"Feature\", data=feature_imp.sort_values(by=\"Value\", ascending=False))\n",
    "plt.title('LightGBM Features')\n",
    "plt.tight_layout()\n",
    "plt.show()"
   ]
  },
  {
   "cell_type": "markdown",
   "metadata": {},
   "source": [
    "# submission"
   ]
  },
  {
   "cell_type": "code",
   "execution_count": 63,
   "metadata": {
    "ExecuteTime": {
     "end_time": "2019-08-13T08:27:42.913031Z",
     "start_time": "2019-08-13T08:27:42.889093Z"
    }
   },
   "outputs": [
    {
     "data": {
      "text/html": [
       "<div>\n",
       "<style scoped>\n",
       "    .dataframe tbody tr th:only-of-type {\n",
       "        vertical-align: middle;\n",
       "    }\n",
       "\n",
       "    .dataframe tbody tr th {\n",
       "        vertical-align: top;\n",
       "    }\n",
       "\n",
       "    .dataframe thead th {\n",
       "        text-align: right;\n",
       "    }\n",
       "</style>\n",
       "<table border=\"1\" class=\"dataframe\">\n",
       "  <thead>\n",
       "    <tr style=\"text-align: right;\">\n",
       "      <th></th>\n",
       "      <th>store_id</th>\n",
       "      <th>amount</th>\n",
       "    </tr>\n",
       "  </thead>\n",
       "  <tbody>\n",
       "    <tr>\n",
       "      <th>0</th>\n",
       "      <td>0</td>\n",
       "      <td>0</td>\n",
       "    </tr>\n",
       "    <tr>\n",
       "      <th>1</th>\n",
       "      <td>1</td>\n",
       "      <td>0</td>\n",
       "    </tr>\n",
       "    <tr>\n",
       "      <th>2</th>\n",
       "      <td>2</td>\n",
       "      <td>0</td>\n",
       "    </tr>\n",
       "    <tr>\n",
       "      <th>3</th>\n",
       "      <td>4</td>\n",
       "      <td>0</td>\n",
       "    </tr>\n",
       "    <tr>\n",
       "      <th>4</th>\n",
       "      <td>5</td>\n",
       "      <td>0</td>\n",
       "    </tr>\n",
       "  </tbody>\n",
       "</table>\n",
       "</div>"
      ],
      "text/plain": [
       "   store_id  amount\n",
       "0         0       0\n",
       "1         1       0\n",
       "2         2       0\n",
       "3         4       0\n",
       "4         5       0"
      ]
     },
     "execution_count": 63,
     "metadata": {},
     "output_type": "execute_result"
    }
   ],
   "source": [
    "sub = pd.read_csv(path + 'submission.csv')\n",
    "sub.head()"
   ]
  },
  {
   "cell_type": "code",
   "execution_count": 65,
   "metadata": {
    "ExecuteTime": {
     "end_time": "2019-08-13T08:28:09.074484Z",
     "start_time": "2019-08-13T08:28:08.921212Z"
    }
   },
   "outputs": [
    {
     "name": "stdout",
     "output_type": "stream",
     "text": [
      "sub shape (1967, 2)\n",
      "lgb_sub shape (1967, 1)\n"
     ]
    }
   ],
   "source": [
    "lgb_sub = X_test[['store_id', 'date_block_1']].reset_index(drop = True)\n",
    "lgb_sub['amount'] = lgb.predict(X_test)\n",
    "\n",
    "lgb_sub = lgb_sub.groupby('store_id')['amount'].sum().to_frame()\n",
    "lgb_sub['amount'] = np.round(lgb_sub['amount'], 6)\n",
    "print('sub shape', sub.shape)\n",
    "print('lgb_sub shape', lgb_sub.shape)"
   ]
  },
  {
   "cell_type": "code",
   "execution_count": 66,
   "metadata": {
    "ExecuteTime": {
     "end_time": "2019-08-13T08:28:20.013358Z",
     "start_time": "2019-08-13T08:28:19.945449Z"
    }
   },
   "outputs": [],
   "source": [
    "#lgb_sub.to_csv('../sub/20190813_lgb_simple.csv') - 2594634.114990"
   ]
  }
 ],
 "metadata": {
  "hide_input": false,
  "kernelspec": {
   "display_name": "Python 3",
   "language": "python",
   "name": "python3"
  },
  "language_info": {
   "codemirror_mode": {
    "name": "ipython",
    "version": 3
   },
   "file_extension": ".py",
   "mimetype": "text/x-python",
   "name": "python",
   "nbconvert_exporter": "python",
   "pygments_lexer": "ipython3",
   "version": "3.7.1"
  },
  "toc": {
   "base_numbering": 1,
   "nav_menu": {},
   "number_sections": true,
   "sideBar": true,
   "skip_h1_title": false,
   "title_cell": "Table of Contents",
   "title_sidebar": "Contents",
   "toc_cell": false,
   "toc_position": {},
   "toc_section_display": true,
   "toc_window_display": false
  }
 },
 "nbformat": 4,
 "nbformat_minor": 2
}
